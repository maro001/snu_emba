{
  "nbformat": 4,
  "nbformat_minor": 0,
  "metadata": {
    "anaconda-cloud": {},
    "celltoolbar": "Slideshow",
    "extensions": {
      "jupyter_dashboards": {
        "activeView": "report_default",
        "version": 1,
        "views": {
          "grid_default": {
            "cellMargin": 10,
            "defaultCellHeight": 20,
            "maxColumns": 12,
            "name": "grid",
            "type": "grid"
          },
          "report_default": {
            "name": "report",
            "type": "report"
          }
        }
      }
    },
    "hide_input": false,
    "kernelspec": {
      "display_name": "Python 3",
      "language": "python",
      "name": "python3"
    },
    "language_info": {
      "codemirror_mode": {
        "name": "ipython",
        "version": 3
      },
      "file_extension": ".py",
      "mimetype": "text/x-python",
      "name": "python",
      "nbconvert_exporter": "python",
      "pygments_lexer": "ipython3",
      "version": "3.9.6"
    },
    "nbpresent": {
      "slides": {
        "0d5190a6-fe59-46ea-944f-dfda62d5511f": {
          "id": "0d5190a6-fe59-46ea-944f-dfda62d5511f",
          "prev": "38586874-e878-4b3e-a1a4-535f59be5e39",
          "regions": {
            "df927029-43b6-402d-b31c-b6a8fea2f514": {
              "attrs": {
                "height": 0.8,
                "width": 0.8,
                "x": 0.1,
                "y": 0.1
              },
              "content": {
                "cell": "a8aa33ca-1d4b-4806-8b72-0c71fe852028",
                "part": "whole"
              },
              "id": "df927029-43b6-402d-b31c-b6a8fea2f514"
            }
          }
        },
        "1294f4e0-d6df-42e0-9004-5c44774d69d7": {
          "id": "1294f4e0-d6df-42e0-9004-5c44774d69d7",
          "prev": null,
          "regions": {
            "23072a27-a60b-483f-b335-5a84c07cf2cc": {
              "attrs": {
                "height": 0.8,
                "width": 0.8,
                "x": 0.1,
                "y": 0.1
              },
              "content": {
                "cell": "46e9d8cc-e19a-4114-a597-41047686bead",
                "part": "whole"
              },
              "id": "23072a27-a60b-483f-b335-5a84c07cf2cc"
            }
          }
        },
        "1b1faeb2-e256-4912-bea4-1753b4b2f1d4": {
          "id": "1b1faeb2-e256-4912-bea4-1753b4b2f1d4",
          "prev": "79c44bc7-eb48-4e3a-8a2c-6667a4d1beb2",
          "regions": {
            "9177fcad-8083-404d-be64-d53c4069b840": {
              "attrs": {
                "height": 0.8,
                "width": 0.8,
                "x": 0.1,
                "y": 0.1
              },
              "content": {
                "cell": "c6d81f00-32a6-4b39-af06-5ae4353a7777",
                "part": "whole"
              },
              "id": "9177fcad-8083-404d-be64-d53c4069b840"
            }
          }
        },
        "24f2ce6d-45b3-4109-a42b-fdd5e4d11655": {
          "id": "24f2ce6d-45b3-4109-a42b-fdd5e4d11655",
          "prev": "1b1faeb2-e256-4912-bea4-1753b4b2f1d4",
          "regions": {
            "ab8accf5-c358-4536-bebf-374c2a71b331": {
              "attrs": {
                "height": 0.8,
                "width": 0.8,
                "x": 0.1,
                "y": 0.1
              },
              "content": {
                "cell": "ad11f854-85a5-4473-ad40-8705cd4f8dac",
                "part": "whole"
              },
              "id": "ab8accf5-c358-4536-bebf-374c2a71b331"
            }
          }
        },
        "26ad9922-c745-4a3f-830b-3f7e6d773508": {
          "id": "26ad9922-c745-4a3f-830b-3f7e6d773508",
          "prev": "4ceb54a0-e0d6-4836-9b9e-780d3cc9ff9f",
          "regions": {
            "0a19015d-1976-4b3d-8f00-a66526e1d0fc": {
              "attrs": {
                "height": 0.8,
                "width": 0.8,
                "x": 0.1,
                "y": 0.1
              },
              "content": {
                "cell": "525e75b1-7b48-49aa-8560-db43d1656e1e",
                "part": "whole"
              },
              "id": "0a19015d-1976-4b3d-8f00-a66526e1d0fc"
            }
          }
        },
        "362d3847-cb6b-4dbb-94e9-fc62c21bfeb9": {
          "id": "362d3847-cb6b-4dbb-94e9-fc62c21bfeb9",
          "prev": "ea4cbb4f-d871-41fd-9a7c-04dc2b45ecaf",
          "regions": {
            "b78fb3b5-5ca0-4a37-9853-37c574343d6f": {
              "attrs": {
                "height": 0.8,
                "width": 0.8,
                "x": 0.1,
                "y": 0.1
              },
              "content": {
                "cell": "8eabab5b-5229-49b7-a5ee-013c625bc954",
                "part": "whole"
              },
              "id": "b78fb3b5-5ca0-4a37-9853-37c574343d6f"
            }
          }
        },
        "38586874-e878-4b3e-a1a4-535f59be5e39": {
          "id": "38586874-e878-4b3e-a1a4-535f59be5e39",
          "prev": "362d3847-cb6b-4dbb-94e9-fc62c21bfeb9",
          "regions": {
            "88617052-36bd-4ab3-82cb-8308420bddb0": {
              "attrs": {
                "height": 0.8,
                "width": 0.8,
                "x": 0.1,
                "y": 0.1
              },
              "content": {
                "cell": "17ef6a69-2840-48e4-9029-bfe1b0ddbc7b",
                "part": "whole"
              },
              "id": "88617052-36bd-4ab3-82cb-8308420bddb0"
            }
          }
        },
        "4ceb54a0-e0d6-4836-9b9e-780d3cc9ff9f": {
          "id": "4ceb54a0-e0d6-4836-9b9e-780d3cc9ff9f",
          "prev": "1294f4e0-d6df-42e0-9004-5c44774d69d7",
          "regions": {
            "0c02c58f-b4e8-49c2-9c80-869e8bbc131c": {
              "attrs": {
                "height": 0.8,
                "width": 0.8,
                "x": 0.1,
                "y": 0.1
              },
              "content": {
                "cell": "2ccf2d53-19cb-407f-9a59-215f88170dc7",
                "part": "whole"
              },
              "id": "0c02c58f-b4e8-49c2-9c80-869e8bbc131c"
            }
          }
        },
        "79c44bc7-eb48-4e3a-8a2c-6667a4d1beb2": {
          "id": "79c44bc7-eb48-4e3a-8a2c-6667a4d1beb2",
          "prev": "0d5190a6-fe59-46ea-944f-dfda62d5511f",
          "regions": {
            "a60c27c0-ff2b-4f5d-9dc2-0cc11012de02": {
              "attrs": {
                "height": 0.8,
                "width": 0.8,
                "x": 0.1,
                "y": 0.1
              },
              "content": {
                "cell": "20b17cba-8727-4373-9595-6c971a92173b",
                "part": "whole"
              },
              "id": "a60c27c0-ff2b-4f5d-9dc2-0cc11012de02"
            }
          }
        },
        "9038e71e-c05f-4ed0-9093-a0e6be14616d": {
          "id": "9038e71e-c05f-4ed0-9093-a0e6be14616d",
          "prev": "26ad9922-c745-4a3f-830b-3f7e6d773508",
          "regions": {
            "3fb9a76c-1e6f-4100-ab65-43c1b8211f67": {
              "attrs": {
                "height": 0.8,
                "width": 0.8,
                "x": 0.1,
                "y": 0.1
              },
              "content": {
                "cell": "914189e4-3142-4e4d-a74f-c9d0b9c1501f",
                "part": "whole"
              },
              "id": "3fb9a76c-1e6f-4100-ab65-43c1b8211f67"
            }
          }
        },
        "97eab42c-23ce-4cea-bb12-680adea40148": {
          "id": "97eab42c-23ce-4cea-bb12-680adea40148",
          "prev": "9038e71e-c05f-4ed0-9093-a0e6be14616d",
          "regions": {
            "5886e585-e637-49bc-baf9-8f02a49cfff1": {
              "attrs": {
                "height": 0.8,
                "width": 0.8,
                "x": 0.1,
                "y": 0.1
              },
              "content": {
                "cell": "9e30a229-f668-436c-ab35-5403e8ced00c",
                "part": "whole"
              },
              "id": "5886e585-e637-49bc-baf9-8f02a49cfff1"
            }
          }
        },
        "ea4cbb4f-d871-41fd-9a7c-04dc2b45ecaf": {
          "id": "ea4cbb4f-d871-41fd-9a7c-04dc2b45ecaf",
          "prev": "97eab42c-23ce-4cea-bb12-680adea40148",
          "regions": {
            "351b20f7-73f4-4a4b-bf5c-876a4c1a8b48": {
              "attrs": {
                "height": 0.8,
                "width": 0.8,
                "x": 0.1,
                "y": 0.1
              },
              "content": {
                "cell": "988692f1-584d-4657-8f88-177fe8c9a3a3",
                "part": "whole"
              },
              "id": "351b20f7-73f4-4a4b-bf5c-876a4c1a8b48"
            }
          }
        }
      },
      "themes": {
        "default": "f420f138-258f-43f7-a51d-f1d18dd79a5a",
        "theme": {}
      }
    },
    "toc": {
      "base_numbering": 1,
      "nav_menu": {},
      "number_sections": true,
      "sideBar": true,
      "skip_h1_title": false,
      "title_cell": "Table of Contents",
      "title_sidebar": "Contents",
      "toc_cell": true,
      "toc_position": {},
      "toc_section_display": true,
      "toc_window_display": false
    },
    "varInspector": {
      "cols": {
        "lenName": 16,
        "lenType": 16,
        "lenVar": 40
      },
      "kernels_config": {
        "python": {
          "delete_cmd_postfix": "",
          "delete_cmd_prefix": "del ",
          "library": "var_list.py",
          "varRefreshCmd": "print(var_dic_list())"
        },
        "r": {
          "delete_cmd_postfix": ") ",
          "delete_cmd_prefix": "rm(",
          "library": "var_list.r",
          "varRefreshCmd": "cat(var_dic_list()) "
        }
      },
      "types_to_exclude": [
        "module",
        "function",
        "builtin_function_or_method",
        "instance",
        "_Feature"
      ],
      "window_display": false
    },
    "colab": {
      "provenance": [],
      "collapsed_sections": [
        "G_EWI0oY95o3"
      ],
      "include_colab_link": true
    }
  },
  "cells": [
    {
      "cell_type": "markdown",
      "metadata": {
        "id": "view-in-github",
        "colab_type": "text"
      },
      "source": [
        "<a href=\"https://colab.research.google.com/github/maro001/snu_emba/blob/main/00_python_short_intro_EMBA_sangha.ipynb\" target=\"_parent\"><img src=\"https://colab.research.google.com/assets/colab-badge.svg\" alt=\"Open In Colab\"/></a>"
      ]
    },
    {
      "cell_type": "markdown",
      "metadata": {
        "tags": [],
        "id": "hOhTtUwfVh10"
      },
      "source": [
        "- - -\n",
        "\n",
        "- 본 자료는 강의를 위한 목적으로 제작되었습니다.\n",
        "- 본 자료에 대한 사전 허가를 받지 않는 배포를 금지합니다.\n",
        "- 본 자료를 강의나 다른 목적으로 활용하고자 하시는 경우 꼭 아래 이메일 주소로 연락주세요.\n",
        "- 연락처 : [jinsoo@snu.ac.kr](jinsoo@snu.ac.kr)\n",
        "\n",
        "- - -"
      ]
    },
    {
      "cell_type": "markdown",
      "source": [
        "![image.png](data:image/png;base64,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)"
      ],
      "metadata": {
        "id": "rtDl9gRIDwE8"
      }
    },
    {
      "cell_type": "markdown",
      "metadata": {
        "id": "4Lr4196PXpQ3"
      },
      "source": [
        "**목차**"
      ]
    },
    {
      "cell_type": "markdown",
      "metadata": {
        "colab_type": "toc",
        "id": "jNd78D3TZgm_"
      },
      "source": [
        ">[파이썬을 계산기로 사용하기](#scrollTo=ba7f2d99-eab6-48e3-ae6f-353acd5647f0)\n",
        "\n",
        ">[계산 순서](#scrollTo=48bc9b55-edd0-4bab-84fc-8d12e9da4832)\n",
        "\n",
        ">[연습 문제 (과제 1)](#scrollTo=lhRp9s_41f2b)\n",
        "\n",
        ">>[수식을 파이썬 코드로 바꾸어 계산하기](#scrollTo=7ec6a63f-8513-406d-bcb3-8f6a0fbc04c5)\n",
        "\n",
        ">>[우선 순위가 있는 수식을 파이썬 코드로 바꾸어 계산하기](#scrollTo=37add168-b521-4f5e-ba29-43ebdfc0bc5f)\n",
        "\n",
        ">[변수](#scrollTo=V7IiukZ2Yxy2)\n",
        "\n",
        ">[데이터의 종류](#scrollTo=99d461f9-958b-43d1-8fad-107ef77fd20e)\n",
        "\n",
        ">[데이터의 종류 확인하기](#scrollTo=3dc14c72-ec94-49d2-9088-d43f9f1d5cf7)\n",
        "\n",
        ">[문자열](#scrollTo=HIo61Q0MYxy5)\n",
        "\n",
        ">>[문자열 만들기](#scrollTo=2gy1fe0qYxzB)\n",
        "\n",
        ">>[따옴표 출력하기](#scrollTo=hYzUEhikYxzB)\n",
        "\n",
        ">>[여러 줄의 문자열 출력하기](#scrollTo=QHQCo9jlYxzC)\n",
        "\n",
        ">>[문자열에서 일부 문자 꺼내기 : 인덱스와 분할 연산자](#scrollTo=4b01e281-6b6e-4e07-822a-7e2bfe1ce24f)\n",
        "\n",
        ">>[연습 문제 : 휴대폰 번호 분리하여 출력하기 (과제 1)](#scrollTo=G_EWI0oY95o3)\n",
        "\n",
        ">>[화이트스페이스 문자](#scrollTo=d2ad7fc1)\n",
        "\n",
        ">>[문자열에 데이터 표시하기](#scrollTo=b0cc1356-597e-4c99-b360-e746957b324d)\n",
        "\n",
        ">[리스트](#scrollTo=44-82I3cYxzF)\n",
        "\n",
        ">[튜플](#scrollTo=hKzDH--sYxzG)\n",
        "\n",
        ">[딕셔너리](#scrollTo=90M3m49rYxzI)\n",
        "\n",
        ">[세트](#scrollTo=cn3Smia1YxzI)\n",
        "\n",
        ">[불린 연산](#scrollTo=Jkp0ejV3Yxy_)\n",
        "\n",
        ">[조건문](#scrollTo=mnlwqXwFYxzJ)\n",
        "\n",
        ">[코드 블록과 들여쓰기](#scrollTo=bcb2f8ed-7b5a-4e7e-abfc-b252d1687f64)\n",
        "\n",
        ">[for문](#scrollTo=_9PfLUpbYxzK)\n",
        "\n",
        ">[무한 루프](#scrollTo=0f6bf88a-0828-4877-af10-492536df571e)\n",
        "\n",
        ">[함수](#scrollTo=jtstf_HjYxzL)\n",
        "\n"
      ]
    },
    {
      "cell_type": "markdown",
      "metadata": {
        "tags": [],
        "id": "ba7f2d99-eab6-48e3-ae6f-353acd5647f0"
      },
      "source": [
        "# 파이썬을 계산기로 사용하기"
      ]
    },
    {
      "cell_type": "markdown",
      "metadata": {
        "tags": [],
        "id": "2ce2d13e-7243-4d75-9f3d-6003150a327d"
      },
      "source": [
        "파이썬을 사용하면 계산 결과를 손쉽게 구할 수 있어요. 더하기는 +, 빼기는 -, 곱하기는 \\*, 나누기는 /을 사용하면 됩니다."
      ]
    },
    {
      "cell_type": "code",
      "execution_count": 120,
      "metadata": {
        "tags": [],
        "id": "0f62e827-5312-42b8-ba1c-840479e04616",
        "colab": {
          "base_uri": "https://localhost:8080/"
        },
        "outputId": "ec4b45db-9dbd-4111-aed9-6f3d29f18bcc"
      },
      "outputs": [
        {
          "output_type": "execute_result",
          "data": {
            "text/plain": [
              "12"
            ]
          },
          "metadata": {},
          "execution_count": 120
        }
      ],
      "source": [
        "5 + 7"
      ]
    },
    {
      "cell_type": "code",
      "execution_count": 121,
      "metadata": {
        "tags": [],
        "id": "d90967b5-ca67-4f5d-8779-10ee82bef5ae",
        "colab": {
          "base_uri": "https://localhost:8080/"
        },
        "outputId": "627f53f1-6cd5-484e-e6e2-569108bc9cd5"
      },
      "outputs": [
        {
          "output_type": "execute_result",
          "data": {
            "text/plain": [
              "-2"
            ]
          },
          "metadata": {},
          "execution_count": 121
        }
      ],
      "source": [
        "5 - 7"
      ]
    },
    {
      "cell_type": "code",
      "execution_count": 122,
      "metadata": {
        "tags": [],
        "id": "0b399a4c-2542-4906-8fd4-075797406e5a",
        "colab": {
          "base_uri": "https://localhost:8080/"
        },
        "outputId": "f14a5437-6e0f-4a3b-9c47-efdd5370ef7d"
      },
      "outputs": [
        {
          "output_type": "execute_result",
          "data": {
            "text/plain": [
              "14"
            ]
          },
          "metadata": {},
          "execution_count": 122
        }
      ],
      "source": [
        "7 * 2"
      ]
    },
    {
      "cell_type": "code",
      "execution_count": 123,
      "metadata": {
        "tags": [],
        "id": "7a1545b1-0df4-42bf-a869-526b1690ed9a",
        "colab": {
          "base_uri": "https://localhost:8080/"
        },
        "outputId": "37bca85d-befc-46c9-c366-acbf8cb7ce4b"
      },
      "outputs": [
        {
          "output_type": "execute_result",
          "data": {
            "text/plain": [
              "3.5"
            ]
          },
          "metadata": {},
          "execution_count": 123
        }
      ],
      "source": [
        "7 / 2"
      ]
    },
    {
      "cell_type": "markdown",
      "metadata": {
        "id": "35697063-9571-4aca-a5ed-ef2fb61bf3dd"
      },
      "source": [
        "덧셈, 뺄셈, 곱셈, 나눗셈 이외에도 %로 나머지를 구하거나 //를 사용하여 나눈 몫을 구할 수도 있어요."
      ]
    },
    {
      "cell_type": "code",
      "execution_count": 124,
      "metadata": {
        "tags": [],
        "id": "900e0b09-f822-40af-81c2-eae81a56001d",
        "colab": {
          "base_uri": "https://localhost:8080/"
        },
        "outputId": "1b3c4a06-ba99-4d84-e1de-06549b54f7c4"
      },
      "outputs": [
        {
          "output_type": "execute_result",
          "data": {
            "text/plain": [
              "1"
            ]
          },
          "metadata": {},
          "execution_count": 124
        }
      ],
      "source": [
        "7 % 2"
      ]
    },
    {
      "cell_type": "code",
      "execution_count": 125,
      "metadata": {
        "tags": [],
        "id": "c0b5ec3e-6b69-443c-8ae6-dac51254e372",
        "colab": {
          "base_uri": "https://localhost:8080/"
        },
        "outputId": "08b9b78e-6cd5-4d04-e4e8-3d87b458c5dc"
      },
      "outputs": [
        {
          "output_type": "execute_result",
          "data": {
            "text/plain": [
              "3"
            ]
          },
          "metadata": {},
          "execution_count": 125
        }
      ],
      "source": [
        "7 // 2"
      ]
    },
    {
      "cell_type": "markdown",
      "metadata": {
        "tags": [],
        "id": "ae4aea37-ce50-4027-985a-309fe15de0b0"
      },
      "source": [
        "여기서는 간단한 산술 계산만 해봤지만 파이썬을 계산기로 사용해 아주 복잡한 과학 계산도 쉽게 결과를 구할 수 있습니다. 앞서 숫자 계산을 할 때 사용한 기호인 +, -, *, / , //, % 등을 '연산자(operator)'라 합니다."
      ]
    },
    {
      "cell_type": "markdown",
      "metadata": {
        "tags": [],
        "id": "657f31e4-ef8a-425b-870d-d88ac714400c"
      },
      "source": [
        "연산자의 종류와 그 기능은 다음 표에 정리하였습니다.\n",
        "\n",
        "| 기호 | 계산 |\n",
        "| :-: | :-: |\n",
        "|  +  | 더하기 |\n",
        "|  -  | 빼기 |\n",
        "|  *  | 곱하기 |\n",
        "|  /  | 나누기 |\n",
        "|  // | 몫 구하기 |\n",
        "|  %  | 나머지 구하기 |\n",
        "|  ** | 제곱 |"
      ]
    },
    {
      "cell_type": "code",
      "source": [],
      "metadata": {
        "id": "pGTHiFp9vSlQ"
      },
      "execution_count": 125,
      "outputs": []
    },
    {
      "cell_type": "markdown",
      "metadata": {
        "tags": [],
        "id": "9a88e1b1-9ca6-40e1-98f1-a3b0060a6acc"
      },
      "source": [
        "제곱 연산자 \\*\\*는 다음과 같이 동작합니다."
      ]
    },
    {
      "cell_type": "code",
      "execution_count": 126,
      "metadata": {
        "id": "b92ca69d-e1a6-48af-8e6f-344969b4da3a",
        "colab": {
          "base_uri": "https://localhost:8080/"
        },
        "outputId": "7c5b7785-5c80-429c-def8-a6d6ae1421cd"
      },
      "outputs": [
        {
          "output_type": "stream",
          "name": "stdout",
          "text": [
            "9\n"
          ]
        }
      ],
      "source": [
        "print(3 ** 2)  # 3 * 3, 즉 3을 두 번 곱하는 것과 같습니다."
      ]
    },
    {
      "cell_type": "code",
      "execution_count": 127,
      "metadata": {
        "id": "e7c16b4c-55ef-41a1-ab00-8c396d8e40cf",
        "colab": {
          "base_uri": "https://localhost:8080/"
        },
        "outputId": "92377af1-64ba-4e09-9d04-b282ea518ad4"
      },
      "outputs": [
        {
          "output_type": "stream",
          "name": "stdout",
          "text": [
            "8\n"
          ]
        }
      ],
      "source": [
        "print(2 ** 3)  # 2 * 2 * 2, 즉 2를 세 번 곱하는 것과 같습니다."
      ]
    },
    {
      "cell_type": "markdown",
      "metadata": {
        "id": "8bb7149b-05ac-4760-b987-ff32a9bd9279"
      },
      "source": [
        "\n",
        "- - -\n",
        "**주석다는 방법**\n",
        "- 주석으로 처리할 내용 맨 앞에 '**#**'를 입력합니다.\n",
        "- 그 줄의 '**#**' 뒤에 작성되는 모든 내용은 주석으로 처리합니다.\n",
        "- 따라서 처음부터 '**#**'로 시작하면 그 줄은 전체가 주석이 됩니다. 그리고 코드 다음에 '**#**'로 시작하면 앞 부분은 컴퓨터가 인식하는 명령어이며 '**#**' 이후의 글은 모두 주석이 됩니다.\n",
        "- - -\n",
        "\n"
      ]
    },
    {
      "cell_type": "code",
      "execution_count": 128,
      "metadata": {
        "id": "4V4craE3VG9Z",
        "colab": {
          "base_uri": "https://localhost:8080/"
        },
        "outputId": "154e1c5d-6855-4148-f403-03cc672b8e5f"
      },
      "outputs": [
        {
          "output_type": "execute_result",
          "data": {
            "text/plain": [
              "1"
            ]
          },
          "metadata": {},
          "execution_count": 128
        }
      ],
      "source": [
        "7 % 2  # 나머지 구하기"
      ]
    },
    {
      "cell_type": "code",
      "execution_count": 129,
      "metadata": {
        "id": "abI3f6NXVG9Z",
        "colab": {
          "base_uri": "https://localhost:8080/"
        },
        "outputId": "d48cac8e-587c-48be-bf7d-854fac99236c"
      },
      "outputs": [
        {
          "output_type": "execute_result",
          "data": {
            "text/plain": [
              "3"
            ]
          },
          "metadata": {},
          "execution_count": 129
        }
      ],
      "source": [
        "# 몫 구하기\n",
        "7 // 2"
      ]
    },
    {
      "cell_type": "markdown",
      "metadata": {
        "tags": [],
        "id": "48bc9b55-edd0-4bab-84fc-8d12e9da4832"
      },
      "source": [
        "# 계산 순서"
      ]
    },
    {
      "cell_type": "markdown",
      "metadata": {
        "tags": [],
        "id": "232300d2-c7ea-49ee-a645-c4defbfbaf39"
      },
      "source": [
        "$2 + 3 \\times 4$의 계산 결과는 얼마일까요?"
      ]
    },
    {
      "cell_type": "code",
      "execution_count": 130,
      "metadata": {
        "tags": [],
        "id": "5e99fcdc-bcec-4536-b11a-4a1a506acc01",
        "colab": {
          "base_uri": "https://localhost:8080/"
        },
        "outputId": "6d437b55-d802-4704-b57e-889f6c09efc9"
      },
      "outputs": [
        {
          "output_type": "execute_result",
          "data": {
            "text/plain": [
              "14"
            ]
          },
          "metadata": {},
          "execution_count": 130
        }
      ],
      "source": [
        "2 + 3 * 4"
      ]
    },
    {
      "cell_type": "markdown",
      "metadata": {
        "tags": [],
        "id": "b481ae2c-79c6-4647-aa89-753c21acdf35"
      },
      "source": [
        "2와 3을 더한 후 4를 곱하면 20이 나와야 하는데 왜 14가 나왔을까요? 그 이유는 파이썬이 계산을 할 때 덧셈과 뺄셈보다 곱셈과 나눗셈을 먼저 하기 때문입니다. 따라서 위 계산식은 '3과 4를 곱한 후 그 결괏값에 2를 더한다'로 해석해야 합니다. 그래서 20가 아니라 14이 나왔어요."
      ]
    },
    {
      "cell_type": "markdown",
      "metadata": {
        "tags": [],
        "id": "f194e2fb-af48-4000-b725-49a8168a65c8"
      },
      "source": [
        "하지만 괄호()를 사용하면 계산 순서를 바꿀 수 있어요."
      ]
    },
    {
      "cell_type": "code",
      "execution_count": 131,
      "metadata": {
        "tags": [],
        "id": "24704a97-660a-4571-8871-ceccf6c09f62",
        "colab": {
          "base_uri": "https://localhost:8080/"
        },
        "outputId": "b74f7a87-f407-40bf-f418-b37cbc90b002"
      },
      "outputs": [
        {
          "output_type": "execute_result",
          "data": {
            "text/plain": [
              "20"
            ]
          },
          "metadata": {},
          "execution_count": 131
        }
      ],
      "source": [
        "(2 + 3) * 4"
      ]
    },
    {
      "cell_type": "markdown",
      "metadata": {
        "tags": [],
        "id": "e0d94181-984d-4c1e-bfa8-72a59ec7c3eb"
      },
      "source": [
        "파이썬은 괄호 안에 있는 계산을 먼저 합니다. 따라서 위 계산식은 '2와 3을 더한 후 그 결괏값에 4를 곱한다'입니다. 괄호는 필요에 따라 다음과 같이 여러 겹으로 중첩해서 사용할 수 있습니다. 괄호가 여러 개 중첩되어 있으면 가장 안쪽 괄호부터 먼저 계산한 후 바깥쪽 괄호 순서로 계산합니다."
      ]
    },
    {
      "cell_type": "code",
      "execution_count": 132,
      "metadata": {
        "tags": [],
        "id": "a7881e1d-9228-4722-bbf8-c4b1cbf7a3b0",
        "colab": {
          "base_uri": "https://localhost:8080/"
        },
        "outputId": "2e1a805c-892b-4b8f-fde2-f5947e54b150"
      },
      "outputs": [
        {
          "output_type": "execute_result",
          "data": {
            "text/plain": [
              "10.0"
            ]
          },
          "metadata": {},
          "execution_count": 132
        }
      ],
      "source": [
        "((2 + 3) * 4) / 2"
      ]
    },
    {
      "cell_type": "markdown",
      "metadata": {
        "tags": [],
        "id": "3d1d5ebd-a8b0-4ed2-a3eb-e91483a2917f"
      },
      "source": [
        "이 경우 파이썬은 안쪽 괄호를 가장 먼저 계산한 다음에 바깥쪽 괄호를 계산해서 그 결과를 2로 나누었습니다. 위 식은 '2와 3을 더한 후 그 결괏값에 4를 곱해서 구한 값을 2로 나눈다'로 해석할 수 있어요.\n",
        "- 2와 3을 더하면 5입니다.\n",
        "- 5에 4를 곱하면 20입니다.\n",
        "- 20을 2로 나눈 최종 결괏값은 10입니다."
      ]
    },
    {
      "cell_type": "markdown",
      "metadata": {
        "tags": [],
        "id": "1f4c2b4d-c1d7-4388-aabc-7fad4d3e7a9b"
      },
      "source": [
        "만약에 모든 괄호를 생략하면 계산 결과는 얼마일까요?"
      ]
    },
    {
      "cell_type": "code",
      "execution_count": 133,
      "metadata": {
        "tags": [],
        "id": "f7dddec0-2348-4189-8a63-3381fa187ea8",
        "colab": {
          "base_uri": "https://localhost:8080/"
        },
        "outputId": "8a020ac3-a8d8-44f8-88f5-381aa13d376b"
      },
      "outputs": [
        {
          "output_type": "execute_result",
          "data": {
            "text/plain": [
              "8.0"
            ]
          },
          "metadata": {},
          "execution_count": 133
        }
      ],
      "source": [
        "2 + 3 * 4 / 2"
      ]
    },
    {
      "cell_type": "markdown",
      "metadata": {
        "tags": [],
        "id": "d137ac79-89c4-46ce-8447-5c735b059fa8"
      },
      "source": [
        "8이군요. 이 계산는 '3에 4를 곱한 후 2를 나누어 구한 값에 2를 더한다'입니다.\n",
        "- 3에 4를 곱하면 12입니다.\n",
        "- 12를 2로 나누면 6입니다.\n",
        "- 2에 6을 더한 최종 결괏값은 8입니다.\n",
        "\n",
        "이처럼 계산식에 괄호를 사용하는지 여부에 따라 결과가 달라진다는 점을 명심합시다."
      ]
    },
    {
      "cell_type": "markdown",
      "metadata": {
        "tags": [],
        "id": "17773696-3ab6-486e-b2ae-be539f55227b"
      },
      "source": [
        "파이썬에서 계산을 할 때 괄호가 없다면 곱셈과 나눗셈을 먼저 실행한 후에 덧셈과 뺄셈을 실행한다는 것을 꼭 기억해야 합니다. 만약 곱셈과 나눗셈이 같이 있으면 왼쪽부터 오른쪽 순서로 계산을 실행합니다. 덧셈과 뺄셈도 같은 방식으로 작동해요. 계산 우선 순서를 다르게 정하려면 괄호를 사용하면 되요. 간단하죠?"
      ]
    },
    {
      "cell_type": "markdown",
      "metadata": {
        "id": "7f242d8e-816e-4e78-8b87-2a42921a1975"
      },
      "source": [
        "- - -\n",
        "**산술 연산자 우선 순위**\n",
        "\n",
        "1. 괄호 **()**\n",
        "1. 지수 __**__\n",
        "1. 곱셈, 나눗셈 __*__, **/**\n",
        "1. 덧셈, 뺄셈 **+**, **-**\n",
        "- - -"
      ]
    },
    {
      "cell_type": "markdown",
      "metadata": {
        "id": "0bdba814-5b73-4738-9b9f-f86f8e05d608"
      },
      "source": [
        "참고로 숫자 사이에 빈 칸을 넣지 않거나 여러 개 넣어도 파이썬이 다 알아서 처리하기 때문에 계산을 할 때 띄어쓰기에 신경을 쓰지 않아도 되지만, 사람이 눈으로 읽기 쉽게 하기 위해서 일반적으로 숫자와 연산자 사이에 빈칸을 하나 넣어 띄어쓰기를 하는 것이 좋습니다."
      ]
    },
    {
      "cell_type": "code",
      "execution_count": 134,
      "metadata": {
        "id": "e6eaae7f-f9b0-4c7f-95ea-bb0b46d3b125",
        "colab": {
          "base_uri": "https://localhost:8080/"
        },
        "outputId": "8dc6f411-9130-4640-a9e0-66d71848be9f"
      },
      "outputs": [
        {
          "output_type": "execute_result",
          "data": {
            "text/plain": [
              "0"
            ]
          },
          "metadata": {},
          "execution_count": 134
        }
      ],
      "source": [
        "1+2-3  # 띄어쓰기를 하지 않았습니다."
      ]
    },
    {
      "cell_type": "code",
      "execution_count": 135,
      "metadata": {
        "id": "4255e128-86e1-4dc3-b784-c177b255d70a",
        "colab": {
          "base_uri": "https://localhost:8080/"
        },
        "outputId": "3982cf78-7395-4af3-b1c1-5713ca95975b"
      },
      "outputs": [
        {
          "output_type": "execute_result",
          "data": {
            "text/plain": [
              "0"
            ]
          },
          "metadata": {},
          "execution_count": 135
        }
      ],
      "source": [
        "1   +   2   -   3  # 세 칸 띄어쓰기를 했습니다."
      ]
    },
    {
      "cell_type": "code",
      "execution_count": 136,
      "metadata": {
        "id": "f6f4cc9f-6b85-4d14-bba9-517b04876fa7",
        "colab": {
          "base_uri": "https://localhost:8080/"
        },
        "outputId": "57d51a75-388b-4c80-9600-33c9dcce0d23"
      },
      "outputs": [
        {
          "output_type": "execute_result",
          "data": {
            "text/plain": [
              "0"
            ]
          },
          "metadata": {},
          "execution_count": 136
        }
      ],
      "source": [
        "1 +2-    3  # 띄어쓰기에 일관성이 없어요 ㅠㅠ"
      ]
    },
    {
      "cell_type": "code",
      "execution_count": 137,
      "metadata": {
        "id": "22b7f86d-7c53-4fb7-a968-7b6a77258f88",
        "colab": {
          "base_uri": "https://localhost:8080/"
        },
        "outputId": "4e35486f-04ab-4b4c-d463-814bb52efe96"
      },
      "outputs": [
        {
          "output_type": "execute_result",
          "data": {
            "text/plain": [
              "0"
            ]
          },
          "metadata": {},
          "execution_count": 137
        }
      ],
      "source": [
        "1 + 2 - 3 # (추천) 빈칸은 항상 하나만 넣는 것이 좋습니다."
      ]
    },
    {
      "cell_type": "markdown",
      "metadata": {
        "id": "lhRp9s_41f2b"
      },
      "source": [
        "# [연습 문제 (과제 1)](https://colab.research.google.com/drive/1VXRjWwvCoJ-y4Un9qzA-cUQmE_VRhBjd?usp=sharing)"
      ]
    },
    {
      "cell_type": "markdown",
      "metadata": {
        "tags": [],
        "id": "7ec6a63f-8513-406d-bcb3-8f6a0fbc04c5"
      },
      "source": [
        "## 수식을 파이썬 코드로 바꾸어 계산하기"
      ]
    },
    {
      "cell_type": "markdown",
      "metadata": {
        "tags": [],
        "id": "d491655e-fa80-4642-980b-37a025a081ed"
      },
      "source": [
        "- - -\n",
        "다음 수식을 파이썬에서 구성한 후 계산해 보세요.\n",
        "\n",
        "- $ 5 \\times 3 - 11 \\div 2 $\n",
        "\n",
        "- $ 11 \\times 9 \\div 3 + 25 $\n",
        "\n",
        "- $ 910520 - 4403505 \\div 880701 $\n",
        "\n",
        "- $ 5^3 - 8 \\; \\% \\; 9 $\n",
        "\n",
        "\n",
        "위 식에서 $\\%$는 나머지를 구하는 연산입니다.\n",
        "- - -"
      ]
    },
    {
      "cell_type": "code",
      "execution_count": 138,
      "metadata": {
        "id": "f35b2157-e7df-40b9-85a4-3633d941fc3b"
      },
      "outputs": [],
      "source": [
        "# YOUR CODE HERE"
      ]
    },
    {
      "cell_type": "code",
      "execution_count": 139,
      "metadata": {
        "id": "6e8b73a8-8156-4aa1-95d3-34146fb86bd9"
      },
      "outputs": [],
      "source": [
        "# YOUR CODE HERE"
      ]
    },
    {
      "cell_type": "code",
      "execution_count": 140,
      "metadata": {
        "id": "21ba1260-c47e-4616-b7cd-e91bd5b011a6"
      },
      "outputs": [],
      "source": [
        "# YOUR CODE HERE"
      ]
    },
    {
      "cell_type": "code",
      "execution_count": 141,
      "metadata": {
        "id": "96d374d6-9857-4db3-a317-6e8684ed7464"
      },
      "outputs": [],
      "source": [
        "# YOUR CODE HERE"
      ]
    },
    {
      "cell_type": "markdown",
      "metadata": {
        "tags": [],
        "id": "37add168-b521-4f5e-ba29-43ebdfc0bc5f"
      },
      "source": [
        "## 우선 순위가 있는 수식을 파이썬 코드로 바꾸어 계산하기"
      ]
    },
    {
      "cell_type": "markdown",
      "metadata": {
        "tags": [],
        "id": "fad7c259-3c2b-42fd-8c7f-d9ec3aa7ddfe"
      },
      "source": [
        "- - -\n",
        "다음 수식을 파이썬에서 구성하여 계산한다.\n",
        "\n",
        "- $ 5 \\times (3 - 11 \\div 2) $\n",
        "\n",
        "- $ 9 \\times (8 + (10 - 6) \\div 2) $\n",
        "\n",
        "- $ 700 - (365 - 5 \\times 3) \\times 2 $\n",
        "\n",
        "- $ ((5^3 - 5 \\times 5) \\; \\% \\; 5 + 3)^3 $\n",
        "\n",
        "위 식에서 $\\%$는 나머지를 구하는 연산이다.\n",
        "- - -"
      ]
    },
    {
      "cell_type": "code",
      "execution_count": 142,
      "metadata": {
        "id": "86d80b25-b72d-4595-88f3-60c0aede3cf3"
      },
      "outputs": [],
      "source": [
        "# YOUR CODE HERE"
      ]
    },
    {
      "cell_type": "code",
      "execution_count": 143,
      "metadata": {
        "id": "9ccff869-0694-4355-bf0b-fc565f6a117c"
      },
      "outputs": [],
      "source": [
        "# YOUR CODE HERE"
      ]
    },
    {
      "cell_type": "code",
      "execution_count": 144,
      "metadata": {
        "id": "06561151-6360-407b-a4b6-c4bc82e044c9"
      },
      "outputs": [],
      "source": [
        "# YOUR CODE HERE"
      ]
    },
    {
      "cell_type": "code",
      "execution_count": 145,
      "metadata": {
        "id": "c6a8ed5a-135b-4803-aa2c-459a4b8da211"
      },
      "outputs": [],
      "source": [
        "# YOUR CODE HERE"
      ]
    },
    {
      "cell_type": "markdown",
      "metadata": {
        "extensions": {
          "jupyter_dashboards": {
            "version": 1,
            "views": {
              "grid_default": {
                "col": 0,
                "height": 8,
                "hidden": false,
                "row": 0,
                "width": 12
              },
              "report_default": {
                "hidden": false
              }
            }
          }
        },
        "nbpresent": {
          "id": "68ce6259-519b-4b90-9e62-3c8b254c3678"
        },
        "id": "V7IiukZ2Yxy2"
      },
      "source": [
        "# 변수"
      ]
    },
    {
      "cell_type": "markdown",
      "metadata": {
        "extensions": {
          "jupyter_dashboards": {
            "version": 1,
            "views": {
              "grid_default": {
                "col": 0,
                "height": 8,
                "hidden": false,
                "row": 0,
                "width": 12
              },
              "report_default": {
                "hidden": false
              }
            }
          }
        },
        "nbpresent": {
          "id": "68ce6259-519b-4b90-9e62-3c8b254c3678"
        },
        "id": "ce889a7d-cfaf-42c2-9074-66bad2cd41ce"
      },
      "source": [
        "변수는 컴퓨터가 숫자나 문자 등의 데이터를 일시적으로 저장하는 공간입니다."
      ]
    },
    {
      "cell_type": "code",
      "execution_count": 146,
      "metadata": {
        "id": "c62d7a39-e5a2-489f-b1a2-e7583a5790b0"
      },
      "outputs": [],
      "source": [
        "x = 3  # 변수 x를 만들고 3을 저장합니다."
      ]
    },
    {
      "cell_type": "markdown",
      "metadata": {
        "tags": [],
        "id": "1504f4d1-0287-48b7-b48e-acda6f2ea7c7"
      },
      "source": [
        "- - -\n",
        "**변수 사용 방법**\n",
        "- **변수이름 = 값** 으로 표현하면 변수가 만들어지고 이 변수에 값을 저장합니다.\n",
        "- **변수이름**을 사용하면 변수 이름 안에 있는 값을 불러올 수 있습니다.\n",
        "    + 예를 들어, **print**(**변수이름**)은 변수가 담고 있는 값을 출력해 주고, **변수이름** + 5는 변수가 담고 있는 값에 5를 더해줘요.\n",
        "- - -"
      ]
    },
    {
      "cell_type": "markdown",
      "metadata": {
        "extensions": {
          "jupyter_dashboards": {
            "version": 1,
            "views": {
              "grid_default": {
                "col": 0,
                "height": 8,
                "hidden": false,
                "row": 0,
                "width": 12
              },
              "report_default": {
                "hidden": false
              }
            }
          }
        },
        "nbpresent": {
          "id": "68ce6259-519b-4b90-9e62-3c8b254c3678"
        },
        "id": "ac1183e1-8a7b-4429-bc22-bc6ba5d5a2ab"
      },
      "source": [
        "변수가 가지고 있는 값이 무엇인지 알려면 **print** 명령어를 사용하면 됩니다. **print** 다음에 오는 괄호 안에 변수 이름을 적으면 그 변수가 가지고 있는 값을 화면에 출력할 수 있어요."
      ]
    },
    {
      "cell_type": "code",
      "execution_count": 147,
      "metadata": {
        "extensions": {
          "jupyter_dashboards": {
            "version": 1,
            "views": {
              "grid_default": {
                "col": 0,
                "height": 8,
                "hidden": false,
                "row": 0,
                "width": 12
              },
              "report_default": {
                "hidden": false
              }
            }
          }
        },
        "nbpresent": {
          "id": "68ce6259-519b-4b90-9e62-3c8b254c3678"
        },
        "id": "5a6c9a5b-ab7e-42ef-a178-36f080bba7a0",
        "colab": {
          "base_uri": "https://localhost:8080/"
        },
        "outputId": "34d9720c-104d-4bab-c7d6-94bda58e0b08"
      },
      "outputs": [
        {
          "output_type": "stream",
          "name": "stdout",
          "text": [
            "3\n"
          ]
        }
      ],
      "source": [
        "print(x)"
      ]
    },
    {
      "cell_type": "markdown",
      "metadata": {
        "tags": [],
        "id": "020cba09-4464-4ab9-ad18-ce3bf70ba466"
      },
      "source": [
        "- - -\n",
        "**print 사용 방법**\n",
        "- **print**(값) : 화면에 출력할 값이 한 개\n",
        "- **print**(값1, 값2, ...) : 화면에 출력할 값이 여러 개 (화면에 여러 개의 값을 출력하려면 콤마(',')로 구분하여 출력하면 됩니다.)\n",
        "\n",
        "이때 '값'은 변수일 수도 있고, 숫자 등 실제 값일 수도 있어요.\n",
        "- - -"
      ]
    },
    {
      "cell_type": "markdown",
      "metadata": {
        "tags": [],
        "id": "99d461f9-958b-43d1-8fad-107ef77fd20e"
      },
      "source": [
        "# 데이터의 종류"
      ]
    },
    {
      "cell_type": "markdown",
      "metadata": {
        "id": "606c2233-4b38-486c-86a4-09ac8347c7ec"
      },
      "source": [
        "다음 코드를 실행해 봅시다."
      ]
    },
    {
      "cell_type": "code",
      "execution_count": 148,
      "metadata": {
        "id": "9aeafb2f-e269-4b2a-bd8e-74ed59b442d6",
        "colab": {
          "base_uri": "https://localhost:8080/"
        },
        "outputId": "00290ca7-5e1a-4a20-9b38-40f488d46828"
      },
      "outputs": [
        {
          "output_type": "stream",
          "name": "stdout",
          "text": [
            "1\n",
            "1\n"
          ]
        }
      ],
      "source": [
        "x = 1\n",
        "y = '1'\n",
        "\n",
        "print(x)\n",
        "print(y)"
      ]
    },
    {
      "cell_type": "markdown",
      "metadata": {
        "id": "0e09c7fa-819b-4f6d-b047-5f2fa8187063"
      },
      "source": [
        "위의 코드를 보면 두 변수 *x* 와 *y* 는 같은 값을 갖고 있는 것처럼 보입니다. 그런데 왜 어떤 데이터에는 따옴표가 있고 어떤 데이터에는 따옴표가 없나요? 그 이유는 데이터의 종류가 달라서 입니다. 숫자는 따옴표로 묶지 않기로 했지만 문자는 따옴표로 묶기로 약속했습니다."
      ]
    },
    {
      "cell_type": "markdown",
      "metadata": {
        "id": "d8c7768a-898d-4507-a3ae-c72b8c5adc83"
      },
      "source": [
        "뿐만 아니라 데이터의 종류가 다르면 연산자가 작동하는 방법도 달라집니다. 예를 들어 더하기 연산자인 +를 사용해서 숫자끼리 더하면 숫자의 합이 나오지만 문자끼리 더하면 두 문자를 결합합니다."
      ]
    },
    {
      "cell_type": "code",
      "execution_count": 149,
      "metadata": {
        "id": "b6e76c8c-5083-4cb5-9d25-a593169041a2",
        "colab": {
          "base_uri": "https://localhost:8080/"
        },
        "outputId": "3a01f01b-67ac-450d-8e8a-9718db1a76c5"
      },
      "outputs": [
        {
          "output_type": "execute_result",
          "data": {
            "text/plain": [
              "3"
            ]
          },
          "metadata": {},
          "execution_count": 149
        }
      ],
      "source": [
        "1 + 2  # 숫자 1과 2를 더합니다."
      ]
    },
    {
      "cell_type": "code",
      "execution_count": 150,
      "metadata": {
        "id": "a14f1a2f-1d65-4862-af2e-1ff0a31e0b73",
        "colab": {
          "base_uri": "https://localhost:8080/",
          "height": 35
        },
        "outputId": "07339502-3e4d-4d98-ec91-ce107a05c21d"
      },
      "outputs": [
        {
          "output_type": "execute_result",
          "data": {
            "text/plain": [
              "'12'"
            ],
            "application/vnd.google.colaboratory.intrinsic+json": {
              "type": "string"
            }
          },
          "metadata": {},
          "execution_count": 150
        }
      ],
      "source": [
        "'1' + '2'  # 문자 1과 2를 더합니다."
      ]
    },
    {
      "cell_type": "markdown",
      "metadata": {
        "id": "57e8197c-0316-4e67-85a6-82edc54daa19"
      },
      "source": [
        "곱하기 연산자인 \\*를 사용해서 숫자끼리 곱하면 숫자를 곱한 값이 나오지만 문자에 숫자를 곱하면 곱한 숫자만큼 문자를 반복해서 결합합니다."
      ]
    },
    {
      "cell_type": "code",
      "execution_count": 151,
      "metadata": {
        "id": "44908387-63bc-4106-9a50-ad543456914d",
        "colab": {
          "base_uri": "https://localhost:8080/"
        },
        "outputId": "2ae1ca22-d05e-49fc-f509-01b3e590aadc"
      },
      "outputs": [
        {
          "output_type": "execute_result",
          "data": {
            "text/plain": [
              "6"
            ]
          },
          "metadata": {},
          "execution_count": 151
        }
      ],
      "source": [
        "2 * 3  # 숫자 2와 3을 곱합니다."
      ]
    },
    {
      "cell_type": "code",
      "execution_count": 152,
      "metadata": {
        "id": "ba4df1d5-d073-429d-bfae-28c307ce52f3",
        "colab": {
          "base_uri": "https://localhost:8080/",
          "height": 35
        },
        "outputId": "b40befa2-f6c2-4c82-9cf8-4a72b9c113e1"
      },
      "outputs": [
        {
          "output_type": "execute_result",
          "data": {
            "text/plain": [
              "'222'"
            ],
            "application/vnd.google.colaboratory.intrinsic+json": {
              "type": "string"
            }
          },
          "metadata": {},
          "execution_count": 152
        }
      ],
      "source": [
        "'2' * 3  # 문자 '2'에 3을 곱합니다."
      ]
    },
    {
      "cell_type": "markdown",
      "metadata": {
        "tags": [],
        "id": "0113c8ed-e9f9-43dd-900c-a5069b1650b3"
      },
      "source": [
        "문자열에 곱하기 연산자를 사용하면 문자를 반복해서 결합하기 때문에 선 등을 그릴 때 편리합니다."
      ]
    },
    {
      "cell_type": "code",
      "execution_count": 153,
      "metadata": {
        "tags": [],
        "id": "118bb882-3fee-4468-bb98-e87eac44dda4",
        "colab": {
          "base_uri": "https://localhost:8080/"
        },
        "outputId": "1870565f-a91c-4af9-e23f-cb0c16058b95"
      },
      "outputs": [
        {
          "output_type": "stream",
          "name": "stdout",
          "text": [
            "-------------------------------------------------------------------------------\n"
          ]
        }
      ],
      "source": [
        "print('-' * 79)"
      ]
    },
    {
      "cell_type": "markdown",
      "metadata": {
        "id": "52d6747b-9b8e-4ef7-a016-fd6013b2b909"
      },
      "source": [
        "변수에 넣을 수 있는 데이터로는 숫자와 문자 외에도 여러 종류가 있습니다. 이를 '자료형'이라 불러요. 영어로는 'data type'이라 합니다. 숫자와 관련한 자료형으로는 '정수형'과 '실수형'이 있습니다. 정수형은 소수점이 없는 숫자 0, 1, ..., 9로 이루어져 있으며, 음수는 앞에 마이너스 부호를 붙입니다. 실수형은 소수점이 있어요. 그래서 '부동소수점형'이라고 부릅니다. 그리고 참과 거짓 두 가지 값 중 하나만 가질 수 있는 '불린형'과 문자들로 이루어진 '문자열형'이 있습니다. 이렇게 네 개의 자료형을 파이썬에서는 가장 중요한 기본 자료형이라 불러요."
      ]
    },
    {
      "cell_type": "markdown",
      "metadata": {
        "id": "cf7f10eb-9974-46bf-8d14-e593220aee4a"
      },
      "source": [
        "**기본 자료형**\n",
        "\n",
        " 자료형 종류 | 자료형 | 설명\n",
        " :-:      | :-:   | :--\n",
        " 정수형   | **int** | 개수를 셈하거나 순서를 정할 때 주로 사용합니다.\n",
        " 실수형   | **float** | 일반적인 계산에 사용합니다.\n",
        " 불린형   | **bool** | 참(**True**)과 거짓(**False**) 중 하나를 선택할 때 사용합니다.\n",
        " 문자열형  | **str** | 문자를 다룰 때 사용합니다.\n"
      ]
    },
    {
      "cell_type": "markdown",
      "metadata": {
        "id": "6f70dc40-bc1e-4703-a84d-383b11bd8143"
      },
      "source": [
        "기본 자료형 이외에도 '리스트형', '튜플형', '딕셔너리형', '세트형' 등이 더 있습니다. 이 자료형들의 특징은 서로 다른 자료형을 가진 여러 종류의 데이터를 한꺼번에 포함할 수 있어요. 그래서 기본 자료형과 구분하여 복합 자료형이라고 불러요."
      ]
    },
    {
      "cell_type": "markdown",
      "metadata": {
        "id": "3dc14c72-ec94-49d2-9088-d43f9f1d5cf7"
      },
      "source": [
        "# 데이터의 종류 확인하기"
      ]
    },
    {
      "cell_type": "markdown",
      "metadata": {
        "id": "d2c9d00e-0ec9-48af-8b2e-a6d1fb95771a"
      },
      "source": [
        "파이썬에서는 어떤 자료형이든지 **변수이름 = 값** 으로 만들 수 있습니다. 이때 저장하는 값에 따라 변수의 자료형도 달라져요. 그럼 여러 가지 자료형으로 변수를 만들어 봅시다."
      ]
    },
    {
      "cell_type": "code",
      "execution_count": 154,
      "metadata": {
        "id": "bac908c5-24ef-4c60-b798-ed5c4385e1fe",
        "colab": {
          "base_uri": "https://localhost:8080/"
        },
        "outputId": "5ce3775b-bcb4-416a-93ce-8157516d22a5"
      },
      "outputs": [
        {
          "output_type": "stream",
          "name": "stdout",
          "text": [
            "5 12.3 False 파이썬\n"
          ]
        }
      ],
      "source": [
        "i = 5       # 정수형\n",
        "f = 12.3    # 실수형\n",
        "b = False   # 불린형\n",
        "s = '파이썬'  # 문자열형\n",
        "\n",
        "# 변수가 저장한 값들을 모두 출력합니다.\n",
        "print(i, f, b, s)"
      ]
    },
    {
      "cell_type": "markdown",
      "metadata": {
        "id": "579ceb62-44fe-4db9-a161-ad87a01debbf"
      },
      "source": [
        "그런데 변수 이름만 보고 그 변수가 어떤 자료형인지 알기는 어렵습니다. 변수가 담고 있는 값을 출력하지 않고도 어떤 자료형인지 확인할 수 있는 방법이 있으면 좋을 것 같아요. 다행이 **type** 명령을 사용하면 변수의 자료형을 확인할 수 있어요."
      ]
    },
    {
      "cell_type": "code",
      "execution_count": 155,
      "metadata": {
        "id": "d0f8d340-c43b-4f44-a72c-ffc3a70b0510",
        "colab": {
          "base_uri": "https://localhost:8080/"
        },
        "outputId": "4131068f-08c7-4646-d437-cfd51f93a821"
      },
      "outputs": [
        {
          "output_type": "execute_result",
          "data": {
            "text/plain": [
              "int"
            ]
          },
          "metadata": {},
          "execution_count": 155
        }
      ],
      "source": [
        "type(i)"
      ]
    },
    {
      "cell_type": "code",
      "execution_count": 156,
      "metadata": {
        "id": "68a4f45c-ddd1-4c9e-842e-6e69f7344f22",
        "colab": {
          "base_uri": "https://localhost:8080/"
        },
        "outputId": "9f208a34-561c-40cf-9e40-bc7fbd63beba"
      },
      "outputs": [
        {
          "output_type": "execute_result",
          "data": {
            "text/plain": [
              "float"
            ]
          },
          "metadata": {},
          "execution_count": 156
        }
      ],
      "source": [
        "type(f)"
      ]
    },
    {
      "cell_type": "code",
      "execution_count": 157,
      "metadata": {
        "id": "5bfb9fa8-b447-470c-b3b7-8715d47ba0e3",
        "colab": {
          "base_uri": "https://localhost:8080/"
        },
        "outputId": "f0b2f058-b37b-40ba-ebc8-fcd5164fc9db"
      },
      "outputs": [
        {
          "output_type": "execute_result",
          "data": {
            "text/plain": [
              "bool"
            ]
          },
          "metadata": {},
          "execution_count": 157
        }
      ],
      "source": [
        "type(b)"
      ]
    },
    {
      "cell_type": "code",
      "execution_count": 158,
      "metadata": {
        "id": "cf3d878d-0c82-496f-beb0-9209cc58c5c8",
        "colab": {
          "base_uri": "https://localhost:8080/"
        },
        "outputId": "33b97547-1db8-4814-9813-951a6635fbab"
      },
      "outputs": [
        {
          "output_type": "execute_result",
          "data": {
            "text/plain": [
              "str"
            ]
          },
          "metadata": {},
          "execution_count": 158
        }
      ],
      "source": [
        "type(s)"
      ]
    },
    {
      "cell_type": "markdown",
      "metadata": {
        "id": "d462db52-513f-48ab-91e0-4330b87c60ad"
      },
      "source": [
        "변수 *i* 는 정수형인 **int**, 변수 *f* 는 실수형인 **float**, 변수 *b*는 불린형인 **bool**, 변수 *s*는 문자열형인 **str**임을 알 수 있습니다."
      ]
    },
    {
      "cell_type": "markdown",
      "metadata": {
        "extensions": {
          "jupyter_dashboards": {
            "version": 1,
            "views": {
              "grid_default": {
                "col": 0,
                "height": 6,
                "hidden": false,
                "row": 26,
                "width": 12
              },
              "report_default": {
                "hidden": false
              }
            }
          }
        },
        "nbpresent": {
          "id": "9e30a229-f668-436c-ab35-5403e8ced00c"
        },
        "id": "pBayiG0yYxzF"
      },
      "source": [
        "기본 자료형 종류\n",
        "- **bool** : 불린형\n",
        "- **int** : 정수형\n",
        "- **float** : 실수형\n",
        "- **str** : 문자열혈\n",
        "\n",
        "복합 자료형 종류\n",
        "- **list** : 리스트형\n",
        "- **tuple** : 튜플형\n",
        "- **dict** : 딕셔너리형\n",
        "- **set** : 세트형"
      ]
    },
    {
      "cell_type": "markdown",
      "metadata": {
        "id": "HIo61Q0MYxy5"
      },
      "source": [
        "# 문자열"
      ]
    },
    {
      "cell_type": "markdown",
      "metadata": {
        "id": "2gy1fe0qYxzB"
      },
      "source": [
        "## 문자열 만들기"
      ]
    },
    {
      "cell_type": "code",
      "metadata": {
        "id": "xzf_P7fWYxzB",
        "colab": {
          "base_uri": "https://localhost:8080/",
          "height": 35
        },
        "outputId": "995215f7-e401-4e7c-9f16-c1b88bbab799"
      },
      "source": [
        "'안녕 파이썬'  # 작은 따옴표"
      ],
      "execution_count": 159,
      "outputs": [
        {
          "output_type": "execute_result",
          "data": {
            "text/plain": [
              "'안녕 파이썬'"
            ],
            "application/vnd.google.colaboratory.intrinsic+json": {
              "type": "string"
            }
          },
          "metadata": {},
          "execution_count": 159
        }
      ]
    },
    {
      "cell_type": "code",
      "metadata": {
        "id": "GWgfRe4bYxzB",
        "colab": {
          "base_uri": "https://localhost:8080/",
          "height": 35
        },
        "outputId": "57a0cf0c-d9a4-43a6-d193-3ed0e1d89541"
      },
      "source": [
        "\"안녕 파이썬\"  # 큰 따옴표"
      ],
      "execution_count": 160,
      "outputs": [
        {
          "output_type": "execute_result",
          "data": {
            "text/plain": [
              "'안녕 파이썬'"
            ],
            "application/vnd.google.colaboratory.intrinsic+json": {
              "type": "string"
            }
          },
          "metadata": {},
          "execution_count": 160
        }
      ]
    },
    {
      "cell_type": "code",
      "metadata": {
        "id": "ea6GrdK_YxzB",
        "colab": {
          "base_uri": "https://localhost:8080/",
          "height": 35
        },
        "outputId": "9eae53ca-4d14-4419-ca4a-7d5e33047df0"
      },
      "source": [
        "'''안녕 파이썬'''  # 삼중 작은 따옴표"
      ],
      "execution_count": 161,
      "outputs": [
        {
          "output_type": "execute_result",
          "data": {
            "text/plain": [
              "'안녕 파이썬'"
            ],
            "application/vnd.google.colaboratory.intrinsic+json": {
              "type": "string"
            }
          },
          "metadata": {},
          "execution_count": 161
        }
      ]
    },
    {
      "cell_type": "code",
      "metadata": {
        "id": "V--PIUXgYxzB",
        "colab": {
          "base_uri": "https://localhost:8080/",
          "height": 35
        },
        "outputId": "c0315356-3c6f-42ae-865a-5207e4c7dd41"
      },
      "source": [
        "\"\"\"안녕 파이썬\"\"\"  # 삼중 큰 따옴표"
      ],
      "execution_count": 162,
      "outputs": [
        {
          "output_type": "execute_result",
          "data": {
            "text/plain": [
              "'안녕 파이썬'"
            ],
            "application/vnd.google.colaboratory.intrinsic+json": {
              "type": "string"
            }
          },
          "metadata": {},
          "execution_count": 162
        }
      ]
    },
    {
      "cell_type": "markdown",
      "metadata": {
        "tags": [],
        "id": "120df0ba-db80-469b-8b57-2d348cb9a2e9"
      },
      "source": [
        "- - -\n",
        "<font size='+1' color='blue'><b>참고</b></font>\n",
        "파이썬에서는 문자를 **'문자열'** 이라고 부릅니다. 왜 그냥 간단히 '문자'라 하지 않고 '문자열'이라 할까요? 컴퓨터 언어는 문자를 다룰 때 문자 하나 하나를 별도로 취급합니다. 그래서 '안녕 파이썬'은 '안', '녕', ' ', '파', '이', 썬'과 같이 문자 하나 하나를 '문자'라 하고, 각 문자들을 모두 결합한 '안녕 파이썬'을 '문자열'이라 합니다. 심지어 '안녕'과 '파이썬' 사이의 공백도 하나의 '문자'로 취급해요. 그래서 '문자열'을 영어로 표현하면 여러 개의 사물을 함께 엮어 놓은 줄이란 뜻을 가진 'string'을 사용합니다. 그리고 개별 문자(글자) 하나 하나를 'letter'라고 불러요.\n",
        "- - -"
      ]
    },
    {
      "cell_type": "markdown",
      "metadata": {
        "id": "hYzUEhikYxzB"
      },
      "source": [
        "## 따옴표 출력하기"
      ]
    },
    {
      "cell_type": "code",
      "metadata": {
        "id": "aEqjU_wuYxzB",
        "colab": {
          "base_uri": "https://localhost:8080/"
        },
        "outputId": "a2006878-7c33-4f8d-a396-7c044ffe0079"
      },
      "source": [
        "print('문자열 안에 \"작은 따옴표\"를 사용하려면 어떻게 하나요?')"
      ],
      "execution_count": 163,
      "outputs": [
        {
          "output_type": "stream",
          "name": "stdout",
          "text": [
            "문자열 안에 \"작은 따옴표\"를 사용하려면 어떻게 하나요?\n"
          ]
        }
      ]
    },
    {
      "cell_type": "code",
      "metadata": {
        "id": "uPxCDJAkYxzB",
        "colab": {
          "base_uri": "https://localhost:8080/"
        },
        "outputId": "27e1e881-3f50-4c8e-8343-3d5ccd04d93c"
      },
      "source": [
        "print(\"문자열 안에 '작은 따옴표'를 사용하려면 큰 따옴표로 묶는다.\")"
      ],
      "execution_count": 164,
      "outputs": [
        {
          "output_type": "stream",
          "name": "stdout",
          "text": [
            "문자열 안에 '작은 따옴표'를 사용하려면 큰 따옴표로 묶는다.\n"
          ]
        }
      ]
    },
    {
      "cell_type": "code",
      "metadata": {
        "id": "sXlRR75rYxzB",
        "colab": {
          "base_uri": "https://localhost:8080/"
        },
        "outputId": "3d02fe28-1903-4215-fc19-b714030f8bd9"
      },
      "source": [
        "print('문자열 안에 \"큰 따옴표\"를 사용하려면 작은 따옴표로 묶는다.')"
      ],
      "execution_count": 165,
      "outputs": [
        {
          "output_type": "stream",
          "name": "stdout",
          "text": [
            "문자열 안에 \"큰 따옴표\"를 사용하려면 작은 따옴표로 묶는다.\n"
          ]
        }
      ]
    },
    {
      "cell_type": "code",
      "metadata": {
        "id": "qFb_V_NbYxzB",
        "colab": {
          "base_uri": "https://localhost:8080/"
        },
        "outputId": "a823a50f-b88d-46e6-cfc5-cc5147f6f6ac"
      },
      "source": [
        "print('''문자열 안에 '작은 따옴표'나 \"큰 따옴표\"를 사용할 수 있다.''')"
      ],
      "execution_count": 166,
      "outputs": [
        {
          "output_type": "stream",
          "name": "stdout",
          "text": [
            "문자열 안에 '작은 따옴표'나 \"큰 따옴표\"를 사용할 수 있다.\n"
          ]
        }
      ]
    },
    {
      "cell_type": "markdown",
      "metadata": {
        "id": "QHQCo9jlYxzC"
      },
      "source": [
        "## 여러 줄의 문자열 출력하기"
      ]
    },
    {
      "cell_type": "code",
      "metadata": {
        "id": "g9yn8wrHYxzC",
        "colab": {
          "base_uri": "https://localhost:8080/"
        },
        "outputId": "28d4a638-1abb-47a4-8785-d6eb6f86489a"
      },
      "source": [
        "multi_lines = '''문자열 안에 '작은 따옴표'나\n",
        "\"큰 따옴표\"를 사용할 수도 있고\n",
        "여러 줄을 사용할 때도 편리하다.'''\n",
        "\n",
        "print(multi_lines)"
      ],
      "execution_count": 167,
      "outputs": [
        {
          "output_type": "stream",
          "name": "stdout",
          "text": [
            "문자열 안에 '작은 따옴표'나\n",
            "\"큰 따옴표\"를 사용할 수도 있고\n",
            "여러 줄을 사용할 때도 편리하다.\n"
          ]
        }
      ]
    },
    {
      "cell_type": "markdown",
      "metadata": {
        "tags": [],
        "id": "4b01e281-6b6e-4e07-822a-7e2bfe1ce24f"
      },
      "source": [
        "## 문자열에서 일부 문자 꺼내기 : 인덱스와 분할 연산자"
      ]
    },
    {
      "cell_type": "markdown",
      "metadata": {
        "tags": [],
        "id": "b19bff33-2175-416e-b8d9-2a7e1fb0b85f"
      },
      "source": [
        "문자열 안에서 문자를 꺼내려면 대괄호 **[ ]** 를 사용하면 됩니다. **[ ]** 안에 번호를 지정해 문자열 안에서 문자를 하나만 가져 올 수도 있고 지정한 범위 안의 문자 묶음을 가져올 수도 있습니다.\n",
        "\n",
        "다음 그림처럼 문자열은 각 문자의 위치를 나타내는 번호가 있습니다. 이처럼 문자열 안 개별 문자의 위치를 나타내는 번호를 문자열의 '인덱스'라고 합니다. 인덱스란 영어로 'index'이며 이는 책에서 특정 내용을 쉽게 찾아 볼 수 있도록 하는 '색인'과 같은 기능을 합니다.\n",
        "\n",
        "따라서 인덱스로 원하는 문자를 가져 올 수 있습니다. **문자열[인덱스]** 는 **인덱스**에 있는 문자를 가져 올 수 있고, **문자열[시작인덱스:끝인덱스]** 는 **시작인덱스**부터 **끝인덱스** <u>직전</u>까지의 범위에 있는 문자들을 가져옵니다. 이렇게 범위를 정해서 문자들을 가져오게 하는 연산자를 '분활 연산자'라 합니다. 분할 연산자는 대괄호 안에 쌍점(콜론)이 한 개(**[:]**) 혹은 두 개(**[::]**)가 옵니다.\n"
      ]
    },
    {
      "cell_type": "markdown",
      "source": [
        "![image.png](data:image/png;base64,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)"
      ],
      "metadata": {
        "id": "HarIAM5dK2fV"
      }
    },
    {
      "cell_type": "markdown",
      "source": [
        "파이썬은 항상 0부터 시작하기 때문에 모든 문자열의 시작 위치는 0입니다. 맨 앞부터 순서대로 0, 1, 2, ... 번호가 주어져요. 파이썬은 인덱스에 음수를 사용하여 문자열의 위치를 오른쪽 끝에서부터 거꾸로 번호를 붙일 수도 있습니다. 인덱스 [-1]은 문자열의 길이에 상관없이 항상 마지막 문자를 찾아주기 때문에 편리합니다. 이렇게 각 문자의 위치는 고유한 번호를 가지고 있기 때문에 원하는 문자들만 가져 올 수 있어서 편리해요.\n",
        "\n"
      ],
      "metadata": {
        "id": "LEaDMwZOK2-g"
      }
    },
    {
      "cell_type": "markdown",
      "metadata": {
        "tags": [],
        "id": "9373ba66-fe96-486c-8151-61c00d80284a"
      },
      "source": [
        "- - -\n",
        "**인덱스 사용 방법**\n",
        "- **문자열[인덱스]** : **인덱스**에 한 문자를 가져옵니다.\n",
        "- **문자열[시작인덱스:끝인덱스]** : **시작인덱스**부터 **끝인덱스** <u>바로 앞</u>까지의 문자들을 가져옵니다.\n",
        "- **문자열[:끝인덱스]** : 처음부터(즉, 0부터) **끝인덱스** <u>바로 앞</u>까지의 문자들을 가져옵니다.\n",
        "- **문자열[시작인덱스:]** : **시작인덱스**부터 마지막 문자까지 모두 가져옵니다.\n",
        "- **문자열[:]** : 처음부터 마지막 문자까지 모두 가져온다. 즉, 문자열 전체를 가져옵니다.\n",
        "- **문자열[::폭]** : 처음부터 마지막 문자까지 **폭**만큼 건너 뛰면서 문자를 가져옵니다. **폭**이 음수면 시작이 -1, 즉 뒤에서부터 시작한다는 뜻입니다.\n",
        "- **문자열[시작인덱스:끝인덱스:폭]** :  **시작인덱스**부터 **끝인덱스** <u>바로 앞</u>까지 **폭**만큼 건너 뛰면서 문자를 가져옵니다.\n",
        "- - -"
      ]
    },
    {
      "cell_type": "markdown",
      "metadata": {
        "tags": [],
        "id": "c79952ba-ae05-4294-8725-a02f766e00e3"
      },
      "source": [
        "'나는 파이썬으로 인공지능을 배워요^^'라는 문장에서 맨 앞의 '나'와 중간의 '파이썬' 그리고 '인공지능', 맨 끝의 '^^'를 꺼내보기로 해요."
      ]
    },
    {
      "cell_type": "code",
      "execution_count": 168,
      "metadata": {
        "tags": [],
        "id": "95f890bb-f160-49e5-8770-cad128662136",
        "colab": {
          "base_uri": "https://localhost:8080/"
        },
        "outputId": "4bea6629-2996-445d-894a-576bc72ce823"
      },
      "outputs": [
        {
          "output_type": "stream",
          "name": "stdout",
          "text": [
            "나\n",
            "파이썬\n",
            "인공지능\n",
            "^^\n"
          ]
        }
      ],
      "source": [
        "text = '나는 파이썬으로 인공지능을 배워요^^'\n",
        "print(text[0])     # 문장의 맨 앞 문자인 '나'를 가져옵니다.\n",
        "print(text[3:6])   # 인덱스 3, 4, 5의 문자인 '파이썬'을 가져옵니다.\n",
        "print(text[9:13])  # 인덱스 9부터 12까지의 문자인 '인공지능'을 가져옵니다.\n",
        "print(text[-2:])   # 마지막 두 글자를 가져옵니다."
      ]
    },
    {
      "cell_type": "markdown",
      "metadata": {
        "tags": [],
        "id": "222c716d-e5da-4d55-9fbd-d708b991bd7b"
      },
      "source": [
        "|나|는| |파|이|썬|으|로| |인|공|지|능|을| |배|워|요|^|^|\n",
        "|:-:|:-:|:-:|:-:|:-:|:-:|:-:|:-:|:-:|:-:|:-:|:-:|:-:|:-:|:-:|:-:|:-:|:-:|:-:|:-:|\n",
        "|0|1|2|3|4|5|6|7|8|9|10|11|12|13|14|15|16|17|18|19|\n",
        "|-20|-19|-18|-17|-16|-15|-14|-13|-12|-11|-10|-9|-8|-7|-6|-5|-4|-3|-2|-1|"
      ]
    },
    {
      "cell_type": "markdown",
      "metadata": {
        "tags": [],
        "id": "4d30d6c6-f4da-4d5f-8bdc-0279033de5f4"
      },
      "source": [
        "**픅**을 사용하여 앞서 만든 문장을 반대로 출력해봐요. **폭**이 음수면 마지막 문자부터 거꾸로 가져올 수 있어요."
      ]
    },
    {
      "cell_type": "code",
      "execution_count": 169,
      "metadata": {
        "tags": [],
        "id": "c02c01c3-014f-49b0-ae2f-a0808614abff",
        "colab": {
          "base_uri": "https://localhost:8080/"
        },
        "outputId": "48bd8ae2-4d3c-4cda-b550-a2fc539aa7c1"
      },
      "outputs": [
        {
          "output_type": "stream",
          "name": "stdout",
          "text": [
            "^^요워배 을능지공인 로으썬이파 는나\n"
          ]
        }
      ],
      "source": [
        "print(text[::-1])"
      ]
    },
    {
      "cell_type": "markdown",
      "metadata": {
        "tags": [],
        "id": "ce17c053-369a-496c-8eed-103c12d55421"
      },
      "source": [
        "인덱스를 이용하여 간단한 암호를 작성할 수 있어요. '무궁화꽃이피었습니다'라는 문장에서 짝수 번째 문자들을 먼저 추출해서 변수에 담고, 그 다음 홀수 번째 문자들을 추출해서 다른 변수에 담은 후 이 둘을 합치면 우리만이 알 수 있는 암호문이 됩니다."
      ]
    },
    {
      "cell_type": "code",
      "execution_count": 170,
      "metadata": {
        "tags": [],
        "id": "a59e98d7-b3f2-4980-974b-4b61e92ebc60",
        "colab": {
          "base_uri": "https://localhost:8080/"
        },
        "outputId": "457fa1fe-f32b-4e48-febb-b1850b1d7305"
      },
      "outputs": [
        {
          "output_type": "stream",
          "name": "stdout",
          "text": [
            "궁꽃피습다무화이었니\n"
          ]
        }
      ],
      "source": [
        "text = '무궁화꽃이피었습니다'\n",
        "even = text[1::2]    # 짝수 번째 문자들만 가져옵니다.\n",
        "odd = text[::2]      # 홀수 번째 문자들만 가져옵니다.\n",
        "cypher = even + odd  # 이 둘을 합펴서 암호 문장을 만듦니다.\n",
        "print(cypher)        # 암호 문장을 출력합니다."
      ]
    },
    {
      "cell_type": "markdown",
      "metadata": {
        "tags": [],
        "id": "G_EWI0oY95o3"
      },
      "source": [
        "## [연습 문제 : 휴대폰 번호 분리하여 출력하기 (과제 1)](https://colab.research.google.com/drive/1VXRjWwvCoJ-y4Un9qzA-cUQmE_VRhBjd?usp=sharing)"
      ]
    },
    {
      "cell_type": "markdown",
      "metadata": {
        "id": "1580e617-cad8-4cf5-85d1-adc539796221"
      },
      "source": [
        "- - -\n",
        "phone 변수를 만들고 휴대폰 번호 010-2345-6789를 할당한 후에 출력합니다. 그리고 이 번호의 이동통신 식별 번호(010)와 앞자리 번호(2345) 그리고 뒷자리 번호(6789)를 각각 추출해서 출력합니다.\n",
        "- - -"
      ]
    },
    {
      "cell_type": "markdown",
      "metadata": {
        "id": "5c624583-8a18-40db-984e-cee85aab203f"
      },
      "source": [
        "**실행 예시**\n",
        "\n",
        "<pre>\n",
        "휴대폰 번호\t: 010-2345-6789\n",
        "식별 번호\t : 010\n",
        "앞자리 번호\t: 2345\n",
        "뒷자리 번호\t: 6789\n",
        "</pre>"
      ]
    },
    {
      "cell_type": "code",
      "execution_count": 171,
      "metadata": {
        "id": "6330ecd1-302a-42a4-afc3-1c4362d6a7fd"
      },
      "outputs": [],
      "source": [
        "# YOUR CODE HERE"
      ]
    },
    {
      "cell_type": "markdown",
      "metadata": {
        "tags": [],
        "id": "d2ad7fc1"
      },
      "source": [
        "## 화이트스페이스 문자"
      ]
    },
    {
      "cell_type": "markdown",
      "metadata": {
        "tags": [],
        "id": "b2308275-5777-47ae-9253-1f85271fda70"
      },
      "source": [
        "화이트스페이스 문자란 화면상에는 아무 것도 표시하지는 않지만 컴퓨터 모니터나 프린터와 같은 출력 장치를 제어하는 문자들을 포함하고 있습니다. 영어로는 whitespace라로 합니다. 화이트스페이스 문자로는 키보드의 아래쪽 중앙에 있는 길쭉한 키이 스페이스 키를 누를 때 표시되는 ' '(공백문자)를 포함해서 엔터(Enter)키를 누르면 다음 줄로 바꿔주는 '\\n'(새줄바꿈) 문자, 그리고 키보드 왼쪽 상단에 있는 탭(Tab) 키를 누를 때 표시되는 '\\t'(탭) 문자 등이 있습니다."
      ]
    },
    {
      "cell_type": "markdown",
      "metadata": {
        "tags": [],
        "id": "b739a12d-413d-4be0-a543-230b50f9b80a"
      },
      "source": [
        "화이트스페이스 문자를 문자열 사이에 넣고 화면으로 문자열을 출력하면 마치 키보드의 엔터(Enter) 키나 탭(Tab) 키를 누른 효과를 볼 수 있습니다."
      ]
    },
    {
      "cell_type": "code",
      "execution_count": 204,
      "metadata": {
        "tags": [],
        "id": "cb4b9856-6812-43c3-8e9e-5aedf921dca9",
        "colab": {
          "base_uri": "https://localhost:8080/"
        },
        "outputId": "5cce6494-e4e1-42a2-a8bf-f6bd7a314776"
      },
      "outputs": [
        {
          "output_type": "stream",
          "name": "stdout",
          "text": [
            "\t일\n",
            "월\n",
            "\t\t화\n",
            " 수\n",
            "목\n",
            "\t금\t토\n"
          ]
        }
      ],
      "source": [
        "text = '\\t일\\n월\\n\\t\\t화\\n 수\\n목\\n\\t금\\t토'\n",
        "print(text)"
      ]
    },
    {
      "cell_type": "markdown",
      "metadata": {
        "tags": [],
        "id": "fcb1894c-7fb3-426a-a574-6884dc5fc3ce"
      },
      "source": [
        "이처럼 화이트스페이스를 사용하면 **print** 명령을 여러 번 사용하지 않고 한 번만 사용해서도 여러 줄을 출력하는 효과를 가져올 수 있어요."
      ]
    },
    {
      "cell_type": "markdown",
      "metadata": {
        "id": "7bd11759-e95d-4a0d-a0c5-a22cb557c377"
      },
      "source": [
        "- - -\n",
        "**<font size='+1' color='blue'>참고</font>**\n",
        "\n",
        "'\\\\'(역슬래시) 문자는 특별한 의미를 가지고 있습니다. 이스케이프(escape) 문자라고 하는데 한글로 변역하면 '탈출'이란 뜻을 가지고 있어요. 한글 윈도우 키보드에서는 ₩키를 누르면 됩니다. 이 문자는 바로 다음에 따라오는 문자를 원래 의미가 아닌 특별한 의미로 처리할 때 사용합니다. 예를 들어 '\\n'(또는 '₩n')는 n을 문자 n으로 처리하지 않고 줄을 바꾸는 새줄바꿈으로 처리하고, '\\t'(또는 '₩t')는 t를 문자 t로 처리하지 않고 탭으로 처리합니다.\n",
        "\n",
        "만약 '\\\\'(역슬래시)가 문자열 안에서 특수 문자인 이스케이프 문자가 아니고 원래 의미인 역슬래시 문자를 뜻한다면 어떻게 해야 할까요? 예를 들어 C 드라이브에 있는 'home' 폴더와 하위 폴더인 'nature'를 'C:\\home\\nature'(또는 'C:₩home₩nature') 형태로 작성하면 역슬래시 뒤에 오는 n 때문에 \\n이 되어 다음 예처럼 줄 바꿈해서 출력됩니다."
      ]
    },
    {
      "cell_type": "code",
      "execution_count": 173,
      "metadata": {
        "id": "d9fb6da5-2dc7-46e5-8a8b-8291ad16184d",
        "colab": {
          "base_uri": "https://localhost:8080/"
        },
        "outputId": "fefa8d47-5959-4575-d71b-334991339cff"
      },
      "outputs": [
        {
          "output_type": "stream",
          "name": "stdout",
          "text": [
            "C:\\home\n",
            "ature\n"
          ]
        }
      ],
      "source": [
        "print('C:\\home\\nature')"
      ]
    },
    {
      "cell_type": "markdown",
      "metadata": {
        "id": "2c8c21fc-938f-4c8b-8738-970732af82a5"
      },
      "source": [
        "이것은 아마도 의도하는 상황이 아니겠죠? 이를 해결하려면 앞서 설명한 역슬래시 앞에 역슬래시를 한번 더 사용해서 새줄바꿈 '\\n'으로 처리하지 말고 일반 문자로 처리하면 됩니다."
      ]
    },
    {
      "cell_type": "code",
      "execution_count": 174,
      "metadata": {
        "id": "78de0885-3554-47fd-8a33-bb69d066e6e5",
        "colab": {
          "base_uri": "https://localhost:8080/"
        },
        "outputId": "004f3a75-49b8-45d9-a7b8-1151a29a9d51"
      },
      "outputs": [
        {
          "output_type": "stream",
          "name": "stdout",
          "text": [
            "C:\\home\\nature\n"
          ]
        }
      ],
      "source": [
        "print('C:\\home\\\\nature')  # 새줄바꿈(\\n)으로 처리하지 않고 일반 문자인 \\n으로 처리합니다."
      ]
    },
    {
      "cell_type": "markdown",
      "metadata": {
        "id": "9d6b3378-5819-477c-8c6c-f0af70441846"
      },
      "source": [
        "<hr style='height:3px;border-width:0;color:gray;background-color:royalblue'>"
      ]
    },
    {
      "cell_type": "markdown",
      "metadata": {
        "id": "b0cc1356-597e-4c99-b360-e746957b324d"
      },
      "source": [
        "## 문자열에 데이터 표시하기"
      ]
    },
    {
      "cell_type": "markdown",
      "metadata": {
        "id": "09617a21-dc31-4981-9de3-5f7a66f7b37f"
      },
      "source": [
        "변수 안에 있는 값을 문자열 안에서 나타낼 수도 있습니다. 예를 들어 변수 *score*가 담고 있는 값을 문자열 안의 메시지에 포함시켜 보여주려면 문자열 앞에 영어 문자 'f'를 붙이고 문자열 안에 표현하려는 변수 이름을 중괄호 **{}** 사이에 넣고 출력하면 됩니다. 이때 사용하는 **{}** 를 문자열 '대체 필드'라고 불러요."
      ]
    },
    {
      "cell_type": "code",
      "execution_count": 175,
      "metadata": {
        "id": "6d3b974f-1561-4969-8d08-43d5d5fb999f",
        "colab": {
          "base_uri": "https://localhost:8080/"
        },
        "outputId": "9d808994-576a-4eea-e0ba-5c1b0323c5c5"
      },
      "outputs": [
        {
          "output_type": "stream",
          "name": "stdout",
          "text": [
            "당신의 점수는 97점입니다.\n"
          ]
        }
      ],
      "source": [
        "score = 97\n",
        "message = f'당신의 점수는 {score}점입니다.'\n",
        "print(message)"
      ]
    },
    {
      "cell_type": "code",
      "metadata": {
        "id": "IQNc0bsaYxzE",
        "colab": {
          "base_uri": "https://localhost:8080/",
          "height": 35
        },
        "outputId": "e545490f-586e-42e1-b31e-f822183500cd"
      },
      "source": [
        "x, y = 3, 5\n",
        "f'{x} * {y} = {x * y}입니다.'"
      ],
      "execution_count": 176,
      "outputs": [
        {
          "output_type": "execute_result",
          "data": {
            "text/plain": [
              "'3 * 5 = 15입니다.'"
            ],
            "application/vnd.google.colaboratory.intrinsic+json": {
              "type": "string"
            }
          },
          "metadata": {},
          "execution_count": 176
        }
      ]
    },
    {
      "cell_type": "markdown",
      "metadata": {
        "tags": [],
        "id": "75a84203-1df7-45b0-8c38-c944cafd74f3"
      },
      "source": [
        "- - -\n",
        "**사용 방법**\n",
        "- **f'...{표현식}...'** : **표현식**으로 변수 이름이 올 수도 있고 계산식이 올 수도 있습니다.\n",
        "\n",
        "이러한 표기법을 f-string이라고 부릅니다.\n",
        "- - -"
      ]
    },
    {
      "cell_type": "markdown",
      "metadata": {
        "id": "45d656e5-cc3f-42c3-ba51-467c53629d4b"
      },
      "source": [
        "f-string 표기법을 사용하면 구구단도 단단하게 출력할 수 있습니다. 다음 코드는 구구단 중 5단을 출력하는 코드입니다. 아직 **for** 문을 배우지 않았지만 일단 따라서 해봅니다."
      ]
    },
    {
      "cell_type": "code",
      "execution_count": 177,
      "metadata": {
        "id": "8416a77a-bf7a-47d3-a87f-7ca7055cc9bb",
        "colab": {
          "base_uri": "https://localhost:8080/"
        },
        "outputId": "e1f4ee84-4213-41b4-eca1-91875aa00194"
      },
      "outputs": [
        {
          "output_type": "stream",
          "name": "stdout",
          "text": [
            "5 x 1 = 5\n",
            "5 x 2 = 10\n",
            "5 x 3 = 15\n",
            "5 x 4 = 20\n",
            "5 x 5 = 25\n",
            "5 x 6 = 30\n",
            "5 x 7 = 35\n",
            "5 x 8 = 40\n",
            "5 x 9 = 45\n"
          ]
        }
      ],
      "source": [
        "for i in range(1, 10):\n",
        "    print(f'5 x {i} = {5 * i}')"
      ]
    },
    {
      "cell_type": "markdown",
      "metadata": {
        "id": "aae234f2-6573-4323-9516-1442bb8c451b"
      },
      "source": [
        " 이처럼 문자열 안에 대체 필드 **{}** 를 여러 번 사용해도 됩니다."
      ]
    },
    {
      "cell_type": "markdown",
      "metadata": {
        "id": "26c3b733-80de-4b4b-8553-498a1b041e92"
      },
      "source": [
        "- - -\n",
        "**<font size='+1' color='blue'>참고</font>**\n",
        "\n",
        "문자열 앞에 f를 사용하지 많고 문자열 바로 다음에 **format** 명령어를 사용해도 됩니다. 예를 들어 변수 *score*가 담고 있는 값을 문자열 안의 메시지에 포함시켜 보여주려면 표현하려는 위치에 대체 필드 **{}** 를 표시하고, 문자열 다음에 **format** 명령어를 사용하여 **format** 의 괄호 안에 변수 *score*를 표시하면 됩니다.\n"
      ]
    },
    {
      "cell_type": "code",
      "execution_count": 178,
      "metadata": {
        "id": "68854ba2-d46e-41c0-a360-672b3d506bff",
        "colab": {
          "base_uri": "https://localhost:8080/"
        },
        "outputId": "e36d28db-d2c9-4427-be11-8b2aa2d0f496"
      },
      "outputs": [
        {
          "output_type": "stream",
          "name": "stdout",
          "text": [
            "당신의 점수는 97점입니다.\n"
          ]
        }
      ],
      "source": [
        "score = 97\n",
        "message = '당신의 점수는 {}점입니다.'\n",
        "print(message.format(score))"
      ]
    },
    {
      "cell_type": "code",
      "execution_count": 179,
      "metadata": {
        "id": "e0f89865-0b80-45d2-b2c2-815eea0a12a3",
        "colab": {
          "base_uri": "https://localhost:8080/"
        },
        "outputId": "500155c4-f000-495b-97c7-9b1a9e0b2ef5"
      },
      "outputs": [
        {
          "output_type": "stream",
          "name": "stdout",
          "text": [
            "5 x 1 = 5\n",
            "5 x 2 = 10\n",
            "5 x 3 = 15\n",
            "5 x 4 = 20\n",
            "5 x 5 = 25\n",
            "5 x 6 = 30\n",
            "5 x 7 = 35\n",
            "5 x 8 = 40\n",
            "5 x 9 = 45\n"
          ]
        }
      ],
      "source": [
        "for i in range(1, 10):\n",
        "    print('5 x {} = {}'.format(i, i * 5))"
      ]
    },
    {
      "cell_type": "markdown",
      "metadata": {
        "id": "eb087450-010e-4d3d-9fc3-2fc69568864b"
      },
      "source": [
        "<hr style='height:3px;border-width:0;color:gray;background-color:royalblue'>"
      ]
    },
    {
      "cell_type": "markdown",
      "source": [
        "**range** 명령어를 사용하면 정수를 원하는 만큼 만들 수 있습니다. **range**를 사용할 때 적용하는 규칙은 인덱스 규칙과 비슷합니다. 시작 번호를 생략하면 처음부터, 즉 0부터 시작하고 끝 번호 바로 앞까지만 숫자를 만들어 냅니다. 그리고 폭을 지정하면 폭만큼 건너 뛰면서 숫자를 만들어요."
      ],
      "metadata": {
        "id": "w9BDJFi-bJG-"
      }
    },
    {
      "cell_type": "markdown",
      "metadata": {
        "tags": [],
        "id": "db0a5a78-195a-4f36-803b-f98e679b6cd9"
      },
      "source": [
        "- - -\n",
        "**range 사용 방법**\n",
        "- **range**(**끝번호** )\n",
        "    + 하나의 정수를 지정하면, **0**부터 **끝번호** **- 1**까지의 정수를 만듭니다.\n",
        "    + 즉, 0, 1, 2, 3, ..., **끝번호** **- 1**까지 만듭니다. 예를 들어 range(3)는 0, 1, 2를 만듭니다.\n",
        "- **range**(**시작번호**, **끝번호** )\n",
        "    + 두 개의 정수를 지정하면, **시작번호**부터 **끝번호 - 1**까지의 정수를 만듭니다.\n",
        "    + 즉, **시작번호**, **시작번호** **+ 1**, ..., **끝번호 - 1**을 만듭니다. 예를 들어 range(1, 4)는 1, 2, 3을 만듭니다.\n",
        "- **range**(**시작번호**, ***끝번호***, ***폭*** )\n",
        "    + 세 개의 정수를 지정하면, **시작번호**부터 **끝번호 - 1**까지 **폭** 만큼 건너 뛰어 정수를 담듭니다.\n",
        "    + 즉, **시작번호**, **시작번호 + 폭**, ..., **끝번호 - 1**을 만듭니다. 이 때 **폭**의 크기에 따라 **끝번호 - 1**은 포함하지 않을 수도 있습니다. 예를 들어 range(2, 10, 2)는 2, 4, 6, 8을 만듭니다. 즉 9(10 - 1)는 포함하지 않습니다.\n",
        "- - -"
      ]
    },
    {
      "cell_type": "markdown",
      "metadata": {
        "extensions": {
          "jupyter_dashboards": {
            "version": 1,
            "views": {
              "grid_default": {
                "col": 0,
                "height": 4,
                "hidden": false,
                "row": 40,
                "width": 4
              },
              "report_default": {
                "hidden": false
              }
            }
          }
        },
        "tags": [],
        "id": "44-82I3cYxzF"
      },
      "source": [
        "#  리스트"
      ]
    },
    {
      "cell_type": "markdown",
      "metadata": {
        "extensions": {
          "jupyter_dashboards": {
            "version": 1,
            "views": {
              "grid_default": {
                "col": 0,
                "height": 4,
                "hidden": false,
                "row": 40,
                "width": 4
              },
              "report_default": {
                "hidden": false
              }
            }
          }
        },
        "tags": [],
        "id": "m7LQupcrYxzF"
      },
      "source": [
        "**리스트**(list)란?\n",
        "- **순서가 있는**(ordered) **0**개 이상의 객체를 배열 형태로 참조하는 자료형입니다.\n",
        "- 대괄호 **[ ]** 를 이용하여 담고 있는 객체를 추출하고 변경(추가/삭제/교체)할 수 있습니다."
      ]
    },
    {
      "cell_type": "markdown",
      "metadata": {
        "extensions": {
          "jupyter_dashboards": {
            "version": 1,
            "views": {
              "grid_default": {
                "col": 0,
                "height": 4,
                "hidden": false,
                "row": 40,
                "width": 4
              },
              "report_default": {
                "hidden": false
              }
            }
          }
        },
        "tags": [],
        "id": "-y44yuV-4K5y"
      },
      "source": [
        "**리스트**(list)란?\n",
        "- **순서가 있는**(ordered) **0**개 이상의 객체를 배열 형태로 참조하는 자료형입니다.\n",
        "- 대괄호 **[ ]** 를 이용하여 담고 있는 객체를 추출하고 변경(추가/삭제/교체)할 수 있습니다."
      ]
    },
    {
      "cell_type": "code",
      "metadata": {
        "extensions": {
          "jupyter_dashboards": {
            "version": 1,
            "views": {
              "grid_default": {
                "hidden": true
              },
              "report_default": {
                "hidden": true
              }
            }
          }
        },
        "id": "sRqz8va0YxzF",
        "colab": {
          "base_uri": "https://localhost:8080/"
        },
        "outputId": "45f408c4-75c6-4d54-b03e-822e1822f438"
      },
      "source": [
        "x = [357, '가',  [1, 2, 3], -307.99, 'python']\n",
        "type(x)"
      ],
      "execution_count": 180,
      "outputs": [
        {
          "output_type": "execute_result",
          "data": {
            "text/plain": [
              "list"
            ]
          },
          "metadata": {},
          "execution_count": 180
        }
      ]
    },
    {
      "cell_type": "code",
      "metadata": {
        "extensions": {
          "jupyter_dashboards": {
            "version": 1,
            "views": {
              "grid_default": {
                "col": 4,
                "height": 4,
                "hidden": false,
                "row": 40,
                "width": 4
              },
              "report_default": {
                "hidden": false
              }
            }
          }
        },
        "id": "lI61HYmXYxzF",
        "colab": {
          "base_uri": "https://localhost:8080/"
        },
        "outputId": "a446a2ce-ba55-48c0-8871-125e94468b0d"
      },
      "source": [
        "x[0]"
      ],
      "execution_count": 181,
      "outputs": [
        {
          "output_type": "execute_result",
          "data": {
            "text/plain": [
              "357"
            ]
          },
          "metadata": {},
          "execution_count": 181
        }
      ]
    },
    {
      "cell_type": "code",
      "metadata": {
        "extensions": {
          "jupyter_dashboards": {
            "version": 1,
            "views": {
              "grid_default": {
                "col": 8,
                "height": 4,
                "hidden": false,
                "row": 40,
                "width": 4
              },
              "report_default": {
                "hidden": false
              }
            }
          }
        },
        "id": "5EPcSfs1YxzG",
        "colab": {
          "base_uri": "https://localhost:8080/",
          "height": 35
        },
        "outputId": "c4eb0905-1689-4251-aed5-cd83b0b42111"
      },
      "source": [
        "x[1]"
      ],
      "execution_count": 182,
      "outputs": [
        {
          "output_type": "execute_result",
          "data": {
            "text/plain": [
              "'가'"
            ],
            "application/vnd.google.colaboratory.intrinsic+json": {
              "type": "string"
            }
          },
          "metadata": {},
          "execution_count": 182
        }
      ]
    },
    {
      "cell_type": "code",
      "metadata": {
        "id": "OXgI36m9YxzG",
        "colab": {
          "base_uri": "https://localhost:8080/",
          "height": 35
        },
        "outputId": "05280819-efb6-44ee-cd49-47b7d5ed82f9"
      },
      "source": [
        "x[-1]"
      ],
      "execution_count": 183,
      "outputs": [
        {
          "output_type": "execute_result",
          "data": {
            "text/plain": [
              "'python'"
            ],
            "application/vnd.google.colaboratory.intrinsic+json": {
              "type": "string"
            }
          },
          "metadata": {},
          "execution_count": 183
        }
      ]
    },
    {
      "cell_type": "code",
      "metadata": {
        "extensions": {
          "jupyter_dashboards": {
            "version": 1,
            "views": {
              "grid_default": {
                "col": 0,
                "height": 4,
                "hidden": false,
                "row": 44,
                "width": 4
              },
              "report_default": {
                "hidden": false
              }
            }
          }
        },
        "id": "Bqea-9SXYxzG",
        "colab": {
          "base_uri": "https://localhost:8080/"
        },
        "outputId": "9d97196a-1e7a-4e38-daaa-f3c04af1e0f3"
      },
      "source": [
        "x[1:4]"
      ],
      "execution_count": 184,
      "outputs": [
        {
          "output_type": "execute_result",
          "data": {
            "text/plain": [
              "['가', [1, 2, 3], -307.99]"
            ]
          },
          "metadata": {},
          "execution_count": 184
        }
      ]
    },
    {
      "cell_type": "code",
      "metadata": {
        "extensions": {
          "jupyter_dashboards": {
            "version": 1,
            "views": {
              "grid_default": {
                "col": 0,
                "height": 4,
                "hidden": false,
                "row": 44,
                "width": 4
              },
              "report_default": {
                "hidden": false
              }
            }
          }
        },
        "id": "CSNg3ufVYxzG"
      },
      "source": [
        "x[-1] = '파이썬'  # 리스트의 값들은 수정(추가/삭제/교체)이 가능합니다."
      ],
      "execution_count": 185,
      "outputs": []
    },
    {
      "cell_type": "code",
      "metadata": {
        "extensions": {
          "jupyter_dashboards": {
            "version": 1,
            "views": {
              "grid_default": {
                "col": 0,
                "height": 4,
                "hidden": false,
                "row": 44,
                "width": 4
              },
              "report_default": {
                "hidden": false
              }
            }
          }
        },
        "id": "JfCpypJxYxzG",
        "colab": {
          "base_uri": "https://localhost:8080/"
        },
        "outputId": "90a139ff-aad5-4907-8499-bf2c38e51858"
      },
      "source": [
        "x"
      ],
      "execution_count": 186,
      "outputs": [
        {
          "output_type": "execute_result",
          "data": {
            "text/plain": [
              "[357, '가', [1, 2, 3], -307.99, '파이썬']"
            ]
          },
          "metadata": {},
          "execution_count": 186
        }
      ]
    },
    {
      "cell_type": "markdown",
      "metadata": {
        "extensions": {
          "jupyter_dashboards": {
            "version": 1,
            "views": {
              "grid_default": {
                "col": 0,
                "height": 4,
                "hidden": false,
                "row": 40,
                "width": 4
              },
              "report_default": {
                "hidden": false
              }
            }
          }
        },
        "tags": [],
        "id": "hKzDH--sYxzG"
      },
      "source": [
        "# 튜플"
      ]
    },
    {
      "cell_type": "markdown",
      "metadata": {
        "extensions": {
          "jupyter_dashboards": {
            "version": 1,
            "views": {
              "grid_default": {
                "col": 0,
                "height": 4,
                "hidden": false,
                "row": 40,
                "width": 4
              },
              "report_default": {
                "hidden": false
              }
            }
          }
        },
        "tags": [],
        "id": "j1jguwKtYxzG"
      },
      "source": [
        "**튜플**(tuple)이란?\n",
        "- 리스트처럼 순서가 있는 자료형입니다.\n",
        "- 히지만 한 번 만들면 내용 변경이 불가능합니다.\n",
        "- 소괄호 **( )** 나 콤마로 구분하여 튜플을 만들 수 있습니다."
      ]
    },
    {
      "cell_type": "code",
      "metadata": {
        "extensions": {
          "jupyter_dashboards": {
            "version": 1,
            "views": {
              "grid_default": {
                "hidden": true
              },
              "report_default": {
                "hidden": true
              }
            }
          }
        },
        "id": "uFG5dfgbYxzH",
        "colab": {
          "base_uri": "https://localhost:8080/"
        },
        "outputId": "3a00c4ec-e91c-43e6-bef7-ba70953c140f"
      },
      "source": [
        "x = (357, '가',  [1, 2, 3], -307.99, 'python')\n",
        "type(x)"
      ],
      "execution_count": 187,
      "outputs": [
        {
          "output_type": "execute_result",
          "data": {
            "text/plain": [
              "tuple"
            ]
          },
          "metadata": {},
          "execution_count": 187
        }
      ]
    },
    {
      "cell_type": "code",
      "metadata": {
        "extensions": {
          "jupyter_dashboards": {
            "version": 1,
            "views": {
              "grid_default": {
                "col": 4,
                "height": 4,
                "hidden": false,
                "row": 40,
                "width": 4
              },
              "report_default": {
                "hidden": false
              }
            }
          }
        },
        "id": "prFZWfZeYxzH",
        "colab": {
          "base_uri": "https://localhost:8080/"
        },
        "outputId": "952c7f20-03c4-4bdc-d23b-5a81e5d8b51c"
      },
      "source": [
        "x[0]"
      ],
      "execution_count": 188,
      "outputs": [
        {
          "output_type": "execute_result",
          "data": {
            "text/plain": [
              "357"
            ]
          },
          "metadata": {},
          "execution_count": 188
        }
      ]
    },
    {
      "cell_type": "code",
      "metadata": {
        "extensions": {
          "jupyter_dashboards": {
            "version": 1,
            "views": {
              "grid_default": {
                "col": 8,
                "height": 4,
                "hidden": false,
                "row": 40,
                "width": 4
              },
              "report_default": {
                "hidden": false
              }
            }
          }
        },
        "id": "VRAzZM0VYxzH",
        "colab": {
          "base_uri": "https://localhost:8080/",
          "height": 35
        },
        "outputId": "9b261ebd-d35d-4ec7-f004-2655c840c5ac"
      },
      "source": [
        "x[1]"
      ],
      "execution_count": 189,
      "outputs": [
        {
          "output_type": "execute_result",
          "data": {
            "text/plain": [
              "'가'"
            ],
            "application/vnd.google.colaboratory.intrinsic+json": {
              "type": "string"
            }
          },
          "metadata": {},
          "execution_count": 189
        }
      ]
    },
    {
      "cell_type": "code",
      "metadata": {
        "id": "CVEyekx7YxzH",
        "colab": {
          "base_uri": "https://localhost:8080/",
          "height": 35
        },
        "outputId": "5964ea97-aced-4993-de63-b0052b4d6827"
      },
      "source": [
        "x[-1]"
      ],
      "execution_count": 190,
      "outputs": [
        {
          "output_type": "execute_result",
          "data": {
            "text/plain": [
              "'python'"
            ],
            "application/vnd.google.colaboratory.intrinsic+json": {
              "type": "string"
            }
          },
          "metadata": {},
          "execution_count": 190
        }
      ]
    },
    {
      "cell_type": "code",
      "metadata": {
        "extensions": {
          "jupyter_dashboards": {
            "version": 1,
            "views": {
              "grid_default": {
                "col": 0,
                "height": 4,
                "hidden": false,
                "row": 44,
                "width": 4
              },
              "report_default": {
                "hidden": false
              }
            }
          }
        },
        "id": "Sqea7MMSYxzH",
        "colab": {
          "base_uri": "https://localhost:8080/"
        },
        "outputId": "4f7ada26-7a46-46ab-f063-ae2c1bfccdfd"
      },
      "source": [
        "x[1:4]"
      ],
      "execution_count": 191,
      "outputs": [
        {
          "output_type": "execute_result",
          "data": {
            "text/plain": [
              "('가', [1, 2, 3], -307.99)"
            ]
          },
          "metadata": {},
          "execution_count": 191
        }
      ]
    },
    {
      "cell_type": "code",
      "metadata": {
        "extensions": {
          "jupyter_dashboards": {
            "version": 1,
            "views": {
              "grid_default": {
                "col": 0,
                "height": 4,
                "hidden": false,
                "row": 44,
                "width": 4
              },
              "report_default": {
                "hidden": false
              }
            }
          }
        },
        "id": "c8irhR0yYxzH"
      },
      "source": [
        "#x[-1] = '파이썬'  # 튜플의 값들은 수정(추가/삭제/교체)이 불가능합니다."
      ],
      "execution_count": 192,
      "outputs": []
    },
    {
      "cell_type": "markdown",
      "metadata": {
        "id": "BCp1SV5RYxzH"
      },
      "source": [
        "**튜플 할당**(tuple assignment)이란?\n",
        "- 등호를 기준으로 우변의 값 혹은 표현식 각각을 좌변의 같은 위치에 해당하는 변수로 할당하는 것을 뜻합니다.\n",
        "\n",
        "<b><pre>(x, y, z) = (i, j, k)</pre></b>\n",
        "\n",
        "<b><pre>x, y, z = i, j, k</pre></b>"
      ]
    },
    {
      "cell_type": "code",
      "metadata": {
        "id": "K2ILqVW8YxzH",
        "colab": {
          "base_uri": "https://localhost:8080/"
        },
        "outputId": "89fa489b-bbd7-45fb-d7a2-f1d2cd49d431"
      },
      "source": [
        "i, j, k = '드럼', '기타', '피아노'\n",
        "print(i, j, k)"
      ],
      "execution_count": 193,
      "outputs": [
        {
          "output_type": "stream",
          "name": "stdout",
          "text": [
            "드럼 기타 피아노\n"
          ]
        }
      ]
    },
    {
      "cell_type": "code",
      "metadata": {
        "id": "dMK_ZN9pYxzH",
        "colab": {
          "base_uri": "https://localhost:8080/"
        },
        "outputId": "f6b4f7a3-0de0-42cf-e609-8a1ac48a8759"
      },
      "source": [
        "i, j = j, i  # 스왑(swap operation)\n",
        "print(i, j, k)"
      ],
      "execution_count": 194,
      "outputs": [
        {
          "output_type": "stream",
          "name": "stdout",
          "text": [
            "기타 드럼 피아노\n"
          ]
        }
      ]
    },
    {
      "cell_type": "markdown",
      "metadata": {
        "extensions": {
          "jupyter_dashboards": {
            "version": 1,
            "views": {
              "grid_default": {
                "col": 0,
                "height": 4,
                "hidden": false,
                "row": 40,
                "width": 4
              },
              "report_default": {
                "hidden": false
              }
            }
          }
        },
        "tags": [],
        "id": "90M3m49rYxzI"
      },
      "source": [
        "# 딕셔너리"
      ]
    },
    {
      "cell_type": "markdown",
      "metadata": {
        "extensions": {
          "jupyter_dashboards": {
            "version": 1,
            "views": {
              "grid_default": {
                "col": 0,
                "height": 4,
                "hidden": false,
                "row": 40,
                "width": 4
              },
              "report_default": {
                "hidden": false
              }
            }
          }
        },
        "tags": [],
        "id": "OFRw5GteYxzI"
      },
      "source": [
        "**딕셔너리**(dictionary)란?\n",
        "- **순서 없이**(unordered) **0**개 이상의 **키:매핑값** 쌍으로 된 객체를 참조하는 자료형입니다.\n",
        "- 중괄호 **{ }** 을 이용하여 담고 있는 객체를 추출하고 변경(추가/삭제/교체)할 수 있습니다."
      ]
    },
    {
      "cell_type": "markdown",
      "metadata": {
        "id": "iOaKJD4BYxzI"
      },
      "source": [
        "**딕셔너리와 리스트의 차이**\n",
        "- 리스트와 달리 **딕셔너리**가 담고 있는 객체는 순서가 없습니다.\n",
        "- **리스트**는 같은 값을 가진 객체를 포함할 수 있지만(중복 가능), **딕셔너리**는 키의 중복을 허락하지 않기 때문에 같은 키를 가진 객체는 포함할 수 없습니다.\n",
        "    + 단, 매핑값은 중복이 가능합니다. 즉, 키만 다르면 매핑값은 같아도 상관없습니다.\n",
        "- 리스트와 달리 **딕셔너리**는 인덱스 개념이 없기 때문에 분할 연산자를 사용해 전체 또는 일부를 추출할 수 없습니다.\n",
        "- **리스트**는 인덱스 번호로 객체를 추출하지만, **딕셔너리**는 키로 객체를 추출합니다."
      ]
    },
    {
      "cell_type": "code",
      "metadata": {
        "id": "zkuNc-qyYxzI"
      },
      "source": [
        "eng_kor = {\n",
        "  'apple': '사과',\n",
        "  'strawberry': '딸기',\n",
        "  'raspberry': '산딸기',\n",
        "  'grape': '포도',\n",
        "  'fig': '무화과',\n",
        "  'peach': '복숭아'\n",
        "}"
      ],
      "execution_count": 195,
      "outputs": []
    },
    {
      "cell_type": "code",
      "metadata": {
        "id": "eWsVvZEbYxzI",
        "colab": {
          "base_uri": "https://localhost:8080/",
          "height": 35
        },
        "outputId": "415d21df-6549-4d02-fed5-443c1ff0d176"
      },
      "source": [
        "eng_kor['apple']  # 매핑값 추출"
      ],
      "execution_count": 196,
      "outputs": [
        {
          "output_type": "execute_result",
          "data": {
            "text/plain": [
              "'사과'"
            ],
            "application/vnd.google.colaboratory.intrinsic+json": {
              "type": "string"
            }
          },
          "metadata": {},
          "execution_count": 196
        }
      ]
    },
    {
      "cell_type": "code",
      "metadata": {
        "id": "NHACx0jwYxzI",
        "colab": {
          "base_uri": "https://localhost:8080/",
          "height": 35
        },
        "outputId": "b5b0301f-1b95-4c1a-9658-5462b48beaba"
      },
      "source": [
        "eng_kor['apple'] = '아이폰'  # 매핑값 갱신\n",
        "eng_kor['apple']"
      ],
      "execution_count": 197,
      "outputs": [
        {
          "output_type": "execute_result",
          "data": {
            "text/plain": [
              "'아이폰'"
            ],
            "application/vnd.google.colaboratory.intrinsic+json": {
              "type": "string"
            }
          },
          "metadata": {},
          "execution_count": 197
        }
      ]
    },
    {
      "cell_type": "code",
      "metadata": {
        "id": "DK7jx4RgYxzI",
        "colab": {
          "base_uri": "https://localhost:8080/"
        },
        "outputId": "0742555a-1ee1-41e6-91a1-ba844240c4b7"
      },
      "source": [
        "eng_kor['python'] = '비단뱀', '프로그래밍 언어'  # 키:매핑값 추가\n",
        "eng_kor"
      ],
      "execution_count": 198,
      "outputs": [
        {
          "output_type": "execute_result",
          "data": {
            "text/plain": [
              "{'apple': '아이폰',\n",
              " 'strawberry': '딸기',\n",
              " 'raspberry': '산딸기',\n",
              " 'grape': '포도',\n",
              " 'fig': '무화과',\n",
              " 'peach': '복숭아',\n",
              " 'python': ('비단뱀', '프로그래밍 언어')}"
            ]
          },
          "metadata": {},
          "execution_count": 198
        }
      ]
    },
    {
      "cell_type": "markdown",
      "metadata": {
        "extensions": {
          "jupyter_dashboards": {
            "version": 1,
            "views": {
              "grid_default": {
                "col": 0,
                "height": 4,
                "hidden": false,
                "row": 40,
                "width": 4
              },
              "report_default": {
                "hidden": false
              }
            }
          }
        },
        "id": "cn3Smia1YxzI"
      },
      "source": [
        "# 세트"
      ]
    },
    {
      "cell_type": "markdown",
      "metadata": {
        "extensions": {
          "jupyter_dashboards": {
            "version": 1,
            "views": {
              "grid_default": {
                "col": 0,
                "height": 4,
                "hidden": false,
                "row": 40,
                "width": 4
              },
              "report_default": {
                "hidden": false
              }
            }
          }
        },
        "id": "WyE6swM0YxzI"
      },
      "source": [
        "**세트**(set)란?\n",
        "- **순서 없이**(unordered) **0**개 이상의 객체를 참조하는 자료형입니다.\n",
        "- 순서가 없이 객체를 담기 때문에 같은 값을 가진 객체를 두 개 이상 담을 수 있습니다. 즉, **중복을 허락하지 않습니다**.\n",
        "    + 리스트나 튜플은 순서가 있기 때문에 인덱스 번호로 값\n",
        "을 구분할 수 있기 때문에 같은 값을 가진 객체를 두 개 이상 담을 수 있습니다. 따라서 중복 값을 가질 수 있습니다.\n",
        "- 중괄호 **{ }** 을 이용하여 담고 있는 객체를 추출하고 변경(추가/삭제/교체)할 수 있습니다."
      ]
    },
    {
      "cell_type": "code",
      "metadata": {
        "id": "XbCRJ-c7YxzI",
        "colab": {
          "base_uri": "https://localhost:8080/"
        },
        "outputId": "d1f07f3e-9111-4485-c7cb-d35dfa6389ed"
      },
      "source": [
        "set1 = {'a', 'b', 3}\n",
        "print(set1)"
      ],
      "execution_count": 199,
      "outputs": [
        {
          "output_type": "stream",
          "name": "stdout",
          "text": [
            "{'b', 3, 'a'}\n"
          ]
        }
      ]
    },
    {
      "cell_type": "markdown",
      "metadata": {
        "id": "NVeCAlekYxzJ"
      },
      "source": [
        "순서가 없이 참조하기 때문에 중복을 허락하지 않습니다."
      ]
    },
    {
      "cell_type": "code",
      "metadata": {
        "id": "JWBXnNlhYxzJ",
        "colab": {
          "base_uri": "https://localhost:8080/"
        },
        "outputId": "81acab76-18be-4e1f-b452-13715ba7f4f7"
      },
      "source": [
        "set2 = {'a', 'b', 3, 'a', 3}\n",
        "print(set2)"
      ],
      "execution_count": 200,
      "outputs": [
        {
          "output_type": "stream",
          "name": "stdout",
          "text": [
            "{'b', 3, 'a'}\n"
          ]
        }
      ]
    },
    {
      "cell_type": "code",
      "metadata": {
        "id": "_9h97sVTYxzJ",
        "colab": {
          "base_uri": "https://localhost:8080/"
        },
        "outputId": "2997b741-b088-4cac-c94d-6dff6760625a"
      },
      "source": [
        "# 세트가 튜플을 담고 있습니다.\n",
        "set3 = {True, 5, '드럼', ('x', 'y'), -3.14, None}\n",
        "print(set3)"
      ],
      "execution_count": 201,
      "outputs": [
        {
          "output_type": "stream",
          "name": "stdout",
          "text": [
            "{True, -3.14, 5, '드럼', ('x', 'y'), None}\n"
          ]
        }
      ]
    },
    {
      "cell_type": "code",
      "metadata": {
        "id": "xOXwlw4qYxzJ",
        "colab": {
          "base_uri": "https://localhost:8080/"
        },
        "outputId": "d32c1d66-e694-46e0-9235-e8537df7b151"
      },
      "source": [
        "len(set3)"
      ],
      "execution_count": 202,
      "outputs": [
        {
          "output_type": "execute_result",
          "data": {
            "text/plain": [
              "6"
            ]
          },
          "metadata": {},
          "execution_count": 202
        }
      ]
    },
    {
      "cell_type": "code",
      "metadata": {
        "id": "BW99-SC9YxzJ",
        "colab": {
          "base_uri": "https://localhost:8080/",
          "height": 200
        },
        "outputId": "4a9c96ca-9d32-4661-e405-e113f5130aa1"
      },
      "source": [
        "# 하지만 리스트, 딕셔너리, 세트는 담을 수 없습니다.\n",
        "set4 = {True, 5, '드럼', ['x', 'y'], -3.14, None}"
      ],
      "execution_count": 203,
      "outputs": [
        {
          "output_type": "error",
          "ename": "TypeError",
          "evalue": "ignored",
          "traceback": [
            "\u001b[0;31m---------------------------------------------------------------------------\u001b[0m",
            "\u001b[0;31mTypeError\u001b[0m                                 Traceback (most recent call last)",
            "\u001b[0;32m<ipython-input-203-f92c13d8480b>\u001b[0m in \u001b[0;36m<cell line: 2>\u001b[0;34m()\u001b[0m\n\u001b[1;32m      1\u001b[0m \u001b[0;31m# 하지만 리스트, 딕셔너리, 세트는 담을 수 없습니다.\u001b[0m\u001b[0;34m\u001b[0m\u001b[0;34m\u001b[0m\u001b[0m\n\u001b[0;32m----> 2\u001b[0;31m \u001b[0mset4\u001b[0m \u001b[0;34m=\u001b[0m \u001b[0;34m{\u001b[0m\u001b[0;32mTrue\u001b[0m\u001b[0;34m,\u001b[0m \u001b[0;36m5\u001b[0m\u001b[0;34m,\u001b[0m \u001b[0;34m'드럼'\u001b[0m\u001b[0;34m,\u001b[0m \u001b[0;34m[\u001b[0m\u001b[0;34m'x'\u001b[0m\u001b[0;34m,\u001b[0m \u001b[0;34m'y'\u001b[0m\u001b[0;34m]\u001b[0m\u001b[0;34m,\u001b[0m \u001b[0;34m-\u001b[0m\u001b[0;36m3.14\u001b[0m\u001b[0;34m,\u001b[0m \u001b[0;32mNone\u001b[0m\u001b[0;34m}\u001b[0m\u001b[0;34m\u001b[0m\u001b[0;34m\u001b[0m\u001b[0m\n\u001b[0m",
            "\u001b[0;31mTypeError\u001b[0m: unhashable type: 'list'"
          ]
        }
      ]
    },
    {
      "cell_type": "markdown",
      "metadata": {
        "tags": [],
        "id": "6d53bd5b-7e17-45e0-bc50-ed5d1d191bf5"
      },
      "source": [
        "**세트는 언제 사용할까요?**\n",
        "\n",
        "세트는 리스트나 딕셔너리에 비해 자주 사용하지 않는 파이썬 자료형입니다. 세트는 주로 다음 두 가지 경우에 주로 사용합니다."
      ]
    },
    {
      "cell_type": "markdown",
      "metadata": {
        "id": "84c790c9-cd14-45cb-a1ec-8caa19ff09f1"
      },
      "source": [
        "첫 번째, 주로 자연어 처리에서 자주 사용하는 방법인데 문서에서 고유한 단어가 글자가 몇 개인지 확인할 때 사용합니다. 세트는 중복을 허용하지 않기 때문에 같은 값(단어나 글자)이 있으면 이 중에 하나만 담습니다."
      ]
    },
    {
      "cell_type": "code",
      "execution_count": null,
      "metadata": {
        "id": "96b8366a-54fa-44dc-9d2e-242bf3a5cef2"
      },
      "outputs": [],
      "source": [
        "s = '간장공장공장장은간공장장이고공장공장공장장은공공장장이다'\n",
        "letters_in_list = list(s)  # 문서의 개별 글자를 리스트에 담습니다.\n",
        "letters_in_set = set(s)    # 문서의 개별 글자를 세트에 담습니다."
      ]
    },
    {
      "cell_type": "code",
      "execution_count": null,
      "metadata": {
        "id": "866a949b-1fbd-4184-aa7d-7e97ee8f46b3"
      },
      "outputs": [],
      "source": [
        "print('리스트가 담고 있는 글자 수:', len(letters_in_list))  # 리스트가 담고 있는 내용물의 개수를 세어 출력합니다.\n",
        "print('세트가 담고 있는 글자 수:', len(letters_in_set))    # 세트가 담고 있는 내용물의 개수를 세어 출력합니다."
      ]
    },
    {
      "cell_type": "code",
      "execution_count": null,
      "metadata": {
        "id": "81896ea9-3edd-45c2-af78-a4eec96201a7"
      },
      "outputs": [],
      "source": [
        "# 리스트가 담고 있는 내용물을 출력합니다.\n",
        "print(letters_in_list)"
      ]
    },
    {
      "cell_type": "code",
      "execution_count": null,
      "metadata": {
        "id": "78d14f53-1289-4aea-a4c3-a7088c1fba0f"
      },
      "outputs": [],
      "source": [
        "# 세트가 담고 있는 내용물을 출력합니다.\n",
        "print(letters_in_set)"
      ]
    },
    {
      "cell_type": "markdown",
      "metadata": {
        "id": "2c21c537-c658-40fa-9594-769eec2e5c56"
      },
      "source": [
        "두 번째 이유, 담고 있는 값(내용물) 중 특정한 값을 찾고자 할 때 사용하는 **in** 연산자는 세트에서 훨씬 빠르게 작동합니다. **in** 연산자는 특정 값이 속해 있는지 존재 여부를 확인할 때 사용하는데 만약 특정 값이 속해 있다면 '참'(**True**)을 반환하고 그렇지 않으면 '거짓'(**False**)을 반환합니다."
      ]
    },
    {
      "cell_type": "markdown",
      "metadata": {
        "id": "d60587b6-294d-4207-abb1-22196c37151d"
      },
      "source": [
        "다음 예에서 1부터 1,000,000까지 백만 개의 숫자를 만든 후 999999가 이 숫자들 안에 포함되어 있는지 확인해 보겠습니다. 이때 백만개의 숫자를 리스트와 세트에 각각 담은 후 검색 결과가 나올 떄까지 걸린 시간을 특정해 보겠습니다."
      ]
    },
    {
      "cell_type": "code",
      "execution_count": null,
      "metadata": {
        "id": "1052e09f-f6de-45e5-8b13-e6f3cf872fd9"
      },
      "outputs": [],
      "source": [
        "numbers_in_list = list(range(1, 1000000))\n",
        "numbers_in_set = set(range(1, 1000000))"
      ]
    },
    {
      "cell_type": "markdown",
      "metadata": {
        "id": "437a5dcb-8a02-46ad-b1d2-7667f5d9c1b7"
      },
      "source": [
        "밀리초(밀리세컨드, millisecond, ms)는 0.001초이며 마이크로초(마이크로세컨드, microsecond, μs)는 백만 분의 1초(0.000001초)를 가리키는 말입니다."
      ]
    },
    {
      "cell_type": "code",
      "execution_count": null,
      "metadata": {
        "id": "061c4f13-12b8-4b21-8990-8d03d0b0459a"
      },
      "outputs": [],
      "source": [
        "%time 999999 in numbers_in_list"
      ]
    },
    {
      "cell_type": "code",
      "execution_count": null,
      "metadata": {
        "id": "a151e994-33d1-4ce3-8397-116c2007ca9a"
      },
      "outputs": [],
      "source": [
        "%time 999999 in numbers_in_set"
      ]
    },
    {
      "cell_type": "markdown",
      "metadata": {
        "id": "51d571ad-2ad6-4373-a198-7db1278e8f6c"
      },
      "source": [
        "- - -\n",
        "멤버십 연산자 **in** 사용 방법\n",
        "- *x* **in** *y* : *x* 가 *y* 안에 있는지 조회합니다.\n",
        "    + *x* 가 *y* 안에 속해 있으면 **True**을 반환하고,\n",
        "    + *x* 가 *y* 안에 속해 있지 않다면 **False**을 반환합니다.\n",
        "- - -"
      ]
    },
    {
      "cell_type": "markdown",
      "metadata": {
        "id": "Jkp0ejV3Yxy_"
      },
      "source": [
        "# 불린 연산"
      ]
    },
    {
      "cell_type": "markdown",
      "metadata": {
        "tags": [],
        "id": "pWOPBuxqYxy_"
      },
      "source": [
        "**불린(Boolean)**\n",
        "- '거짓'(**False**)과 '참'(**True**) 두 가지 값 중 한 개만 취할 수 있는 논리 자료형입니다."
      ]
    },
    {
      "cell_type": "markdown",
      "metadata": {
        "id": "l1kG9sLUYxy_"
      },
      "source": [
        "**거짓**(**False**)\n",
        "\n",
        "```python\n",
        "False\n",
        "0\n",
        "0.0\n",
        "None\n",
        "''     # 빈 문자열\n",
        "[]     # 빈 리스트\n",
        "()     # 빈 튜플\n",
        "{}     # 빈 딕셔너리\n",
        "set()  # 빈 세트\n",
        "```"
      ]
    },
    {
      "cell_type": "markdown",
      "metadata": {
        "id": "zgqbANGkYxy_"
      },
      "source": [
        "**참**(**True**)\n",
        "- 그 외 나머지(**True**, **0**이 아닌 정수 등)"
      ]
    },
    {
      "cell_type": "markdown",
      "metadata": {
        "id": "uNqRpgFPYxy_"
      },
      "source": [
        "참, 거짓을 숫자로 표현하게 되면...\n",
        "\n",
        "- **False**는 **0**으로\n",
        "- **True**는 **1**로 표현합니다."
      ]
    },
    {
      "cell_type": "markdown",
      "metadata": {
        "id": "Jw-631AjYxy_"
      },
      "source": [
        "불린 자료형은 주로 **논리 연산**과 **비교 연산**에서 사용합니다."
      ]
    },
    {
      "cell_type": "markdown",
      "metadata": {
        "tags": [],
        "id": "Y8ouuomtYxy_"
      },
      "source": [
        "**논리 연산**\n",
        "- **not**\n",
        "- **and**\n",
        "- **or**"
      ]
    },
    {
      "cell_type": "code",
      "metadata": {
        "tags": [],
        "id": "mEBrCbJjYxzA"
      },
      "source": [
        "not True"
      ],
      "execution_count": null,
      "outputs": []
    },
    {
      "cell_type": "code",
      "metadata": {
        "tags": [],
        "id": "j4zSWxL0YxzA"
      },
      "source": [
        "True and False"
      ],
      "execution_count": null,
      "outputs": []
    },
    {
      "cell_type": "code",
      "metadata": {
        "tags": [],
        "id": "4vDVJdOZYxzA"
      },
      "source": [
        "True or False"
      ],
      "execution_count": null,
      "outputs": []
    },
    {
      "cell_type": "markdown",
      "metadata": {
        "tags": [],
        "id": "UgKYNYkSYxzA"
      },
      "source": [
        "**비교 연산**(관계 연산)"
      ]
    },
    {
      "cell_type": "markdown",
      "metadata": {
        "id": "_3W7VGOzYxzA"
      },
      "source": [
        "프로그래밍에서 비교 연산자는 수학에서 사용될 때와 조금 다른 형태로 표현합니다.\n",
        "\n",
        "비교 연산자|설명\n",
        ":-:|:-\n",
        "x **==** y|***x*** 와 ***y*** 가 같은가요?\n",
        "x **!=** y|***x*** 와 ***y*** 가 다른가요?\n",
        "x **<** y|***x*** 가 ***y*** 보다 작은가요(미만)?\n",
        "x **<=** y|***x*** 가 ***y*** 보다 작거나 같은가요(이하)?\n",
        "x **>** y|***x*** 가 ***y*** 보다 큰가요(초과)?\n",
        "x **>=** y|***x*** 가 ***y*** 보다 크거나 같은가요(이상)?"
      ]
    },
    {
      "cell_type": "code",
      "metadata": {
        "id": "yExWiSqWYxzA"
      },
      "source": [
        "'a' == 'A'"
      ],
      "execution_count": null,
      "outputs": []
    },
    {
      "cell_type": "code",
      "metadata": {
        "id": "jrvTcf94YxzA"
      },
      "source": [
        "'a' < 'A'"
      ],
      "execution_count": null,
      "outputs": []
    },
    {
      "cell_type": "code",
      "metadata": {
        "id": "QYgQqeL7YxzA"
      },
      "source": [
        "5 != 5.0"
      ],
      "execution_count": null,
      "outputs": []
    },
    {
      "cell_type": "code",
      "metadata": {
        "tags": [],
        "id": "CtBaZAr2YxzA"
      },
      "source": [
        "(3 > 2) and (3 <= 3)"
      ],
      "execution_count": null,
      "outputs": []
    },
    {
      "cell_type": "markdown",
      "metadata": {
        "id": "mnlwqXwFYxzJ"
      },
      "source": [
        "# 조건문"
      ]
    },
    {
      "cell_type": "markdown",
      "metadata": {
        "id": "SJ1xy9efYxzJ"
      },
      "source": [
        "조건문은 어떤 조건에 따라 프로그램의 논리가 특정한 방향으로 진행되어야 할 때 사용합니다. 조건문은 여러 개 올 수 있습니다. 예를 들어 두 개 또는 그 이상의 예-아니오 질문이 주어지고 컴퓨터는 이 질문의 결과에 따라 이 중 한 개를 선택하여 실행하게 됩니다."
      ]
    },
    {
      "cell_type": "markdown",
      "metadata": {
        "id": "HhfhlX7QYxzJ"
      },
      "source": [
        "조건문의 기본적인 흐름도는 다음 그림과 같습니다."
      ]
    },
    {
      "cell_type": "markdown",
      "source": [
        "![image.png](data:image/png;base64,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)"
      ],
      "metadata": {
        "id": "XD1ZvRg0IhRK"
      }
    },
    {
      "cell_type": "markdown",
      "metadata": {
        "id": "eyoI57XbYxzJ"
      },
      "source": [
        "**if**문의 일반 형식은 다음과 같습니다."
      ]
    },
    {
      "cell_type": "markdown",
      "metadata": {
        "id": "TvEyujaWYxzK"
      },
      "source": [
        "<b><pre>if 불린-표현식-1:\n",
        "    명령문-1\n",
        "elif 불린-표현식-2:\n",
        "    명령문-2\n",
        "...\n",
        "elif 불린-표현식-N:\n",
        "    명령문-N\n",
        "else:\n",
        "    else-명령문</pre></b>"
      ]
    },
    {
      "cell_type": "markdown",
      "metadata": {
        "id": "Pe0oPT_RYxzK"
      },
      "source": [
        "다음과 같은 특징이 있습니다.\n",
        "\n",
        "- **if**문은 반드시 있어야 하지만, **elif**문과 **else**문 모두 선택 사항이라 생략할 수 있습니다.\n",
        "- **elif**문의 개수는 제한이 없기 때문에 여러 개 작성할 수 있습니다.\n",
        "- **else**문은 하나만 올 수 있고 항상 마지막에 와야 합니다.\n",
        "- **if**문, **elif**문, **else**문의 마지막에는 항상 쌍점(**:**)이 붙습니다.\n",
        "- **불린-표현식**인 **불린-표현식-1**, ..., **불린-표현식-N** 의 값은\n",
        "    + '참(**True**)'과\n",
        "    + '거짓(**False**)'\n",
        "    + 둘 중 하나만 갖습니다.\n",
        "- 조건문은 위에서부터 아래로 순서로 실행되면서 **불린-표현식**의 값을 평가합니다.\n",
        "    + **불린-표현식**의 값이 '참'이면 해당 명령문(**명령문-1**, ..., **명령문-N**)을 실행합니다.\n",
        "    + **불린-표현식** 모두가 '거짓'이면 마지막에 있는 **else**-명령문을 실행합니다."
      ]
    },
    {
      "cell_type": "markdown",
      "metadata": {
        "extensions": {
          "jupyter_dashboards": {
            "version": 1,
            "views": {
              "grid_default": {
                "col": 0,
                "height": 10,
                "hidden": false,
                "row": 71,
                "width": 12
              },
              "report_default": {
                "hidden": false
              }
            }
          }
        },
        "id": "aEFJRoV9YxzK"
      },
      "source": [
        "**if**문"
      ]
    },
    {
      "cell_type": "code",
      "metadata": {
        "extensions": {
          "jupyter_dashboards": {
            "version": 1,
            "views": {
              "grid_default": {
                "col": 4,
                "height": 4,
                "hidden": false,
                "row": 66,
                "width": 4
              },
              "report_default": {
                "hidden": false
              }
            }
          }
        },
        "id": "4KmPxdQ3YxzK"
      },
      "source": [
        "if True:\n",
        "    print(1)"
      ],
      "execution_count": null,
      "outputs": []
    },
    {
      "cell_type": "code",
      "metadata": {
        "extensions": {
          "jupyter_dashboards": {
            "version": 1,
            "views": {
              "grid_default": {
                "hidden": true
              },
              "report_default": {
                "hidden": true
              }
            }
          }
        },
        "id": "rrUsAGwwYxzK"
      },
      "source": [
        "x, y, z = 3, 5, 10\n",
        "if x <= y:\n",
        "    print(x)"
      ],
      "execution_count": null,
      "outputs": []
    },
    {
      "cell_type": "code",
      "metadata": {
        "extensions": {
          "jupyter_dashboards": {
            "version": 1,
            "views": {
              "grid_default": {
                "hidden": true
              },
              "report_default": {
                "hidden": true
              }
            }
          }
        },
        "id": "2DTMZDg-YxzK"
      },
      "source": [
        "x, y, z = 3, 5, 10\n",
        "if x == z:\n",
        "    print(x)"
      ],
      "execution_count": null,
      "outputs": []
    },
    {
      "cell_type": "markdown",
      "metadata": {
        "extensions": {
          "jupyter_dashboards": {
            "version": 1,
            "views": {
              "grid_default": {
                "col": 0,
                "height": 8,
                "hidden": false,
                "row": 81,
                "width": 12
              },
              "report_default": {
                "hidden": false
              }
            }
          }
        },
        "id": "fZrILf44YxzK"
      },
      "source": [
        "**if-else** 문"
      ]
    },
    {
      "cell_type": "code",
      "metadata": {
        "extensions": {
          "jupyter_dashboards": {
            "version": 1,
            "views": {
              "grid_default": {
                "col": 8,
                "height": 4,
                "hidden": false,
                "row": 66,
                "width": 4
              },
              "report_default": {
                "hidden": false
              }
            }
          }
        },
        "id": "yndQ6GdlYxzK"
      },
      "source": [
        "x, y, z = 3, 5, 10\n",
        "if x > y:\n",
        "    print(x)\n",
        "else:\n",
        "    print(y)"
      ],
      "execution_count": null,
      "outputs": []
    },
    {
      "cell_type": "markdown",
      "metadata": {
        "extensions": {
          "jupyter_dashboards": {
            "version": 1,
            "views": {
              "grid_default": {
                "col": 0,
                "height": 9,
                "hidden": false,
                "row": 89,
                "width": 12
              },
              "report_default": {
                "hidden": false
              }
            }
          }
        },
        "id": "wgzBApkbYxzK"
      },
      "source": [
        "**if-elif-else** 문"
      ]
    },
    {
      "cell_type": "code",
      "metadata": {
        "extensions": {
          "jupyter_dashboards": {
            "version": 1,
            "views": {
              "grid_default": {
                "col": 0,
                "height": 4,
                "hidden": false,
                "row": 98,
                "width": 4
              },
              "report_default": {
                "hidden": false
              }
            }
          }
        },
        "id": "Ckw_yTLxYxzK"
      },
      "source": [
        "x, y, z = 3, 5, 10\n",
        "if x > y:\n",
        "    print(x)\n",
        "elif z > y:\n",
        "    print(z)\n",
        "else:\n",
        "    print(y)"
      ],
      "execution_count": null,
      "outputs": []
    },
    {
      "cell_type": "markdown",
      "metadata": {
        "tags": [],
        "id": "bcb2f8ed-7b5a-4e7e-abfc-b252d1687f64"
      },
      "source": [
        "# 코드 블록과 들여쓰기"
      ]
    },
    {
      "cell_type": "markdown",
      "metadata": {
        "tags": [],
        "id": "9ffbb641-a41c-4baf-b8a1-bb8690900249"
      },
      "source": [
        "앞서 **if** 명령문 아래의 코드는 들여쓰기를 하였습니다. **if** 명령문의 끝을 보면 쌍점(:)이 있는데 이처럼 : 아래에 오는 명령들은 모두 들여쓰기를 해야 해요. 들여쓰기를 하는 이유는 : 아래 있는 모든 명령은 : 줄에 있는 명령과 하나의 묶음이란 뜻입니다. 우리가 글을 작성할 때 관련된 문장들의 묶음을 문단으로 표현하는 것과 비슷한 원리라고 생각하시면 이해하기 쉬울거에요.\n",
        "\n",
        "이러한 명령어의 묶음을 우리는 '코드 블록'이라 부릅니다. 코드 블록은 한 줄일 수도 있고 두 줄, 세 줄, 그 이상의 명렁어로 이뤄질 수 있습니다. 코드 블록은 들여쓰기로 구분을 하는데요 키보드의 탭(tab) 키를 1번 누르거나 스페이스(space) 키를 4번 눌러 들여쓰기를 할 수 있습니다. 하지만 파이썬 프로그램을 작성하는 대부분의 에디터들은 알아서 자동으로 들여쓰기를 해주기 때문에 걱정 안 해도 됩니다. 줄을 바꾸면 그 다음 줄도 자동으로 들여쓰기가 되므로 계속해서 파이썬 명령을 입력할 수 있어요. 들여쓰기가 필요 없어졌을 때는 키보드의 백스페이스(Backspace)를 사용해 왼쪽으로 이동하면 되요."
      ]
    },
    {
      "cell_type": "markdown",
      "metadata": {
        "tags": [],
        "id": "RGHjjynPTWt3"
      },
      "source": [
        "- - -\n",
        "**사용 방법**\n",
        "\n",
        "- 들여쓰기를 할 때는 4칸(space키 4번) 또는 1탭(Tab키 1번)을 입력합니다.\n",
        "- 같은 코드 블록 안에서는 반드시 한 종류의 들여쓰기를 사용해야지 혼용하면 안됩니다.\n",
        "    + 탭(tab)으로 들여쓰면 계속 탭으로 들여써야 합니다.\n",
        "    + 원칙으로는 공백(빈칸, space) 사용을 권장합니다. (PEP 8 권장 사항)\n",
        "- - -"
      ]
    },
    {
      "cell_type": "markdown",
      "metadata": {
        "tags": [],
        "id": "88c0fb26-d793-4bcc-8563-73407c8dd716"
      },
      "source": [
        "주의할 점은 같은 블록 안에 있는 코드의 들여쓰기 위치가 다르면 오류가 납니다. 예를 들어 블록의 첫 번째 줄의 코드는 네 개의 빈칸으로 들여쓰기를 했는데 두 번째 줄의 코드가 세 개의 빈칸으로 들여쓰기를 했다면 'IndentationError'가 납니다."
      ]
    },
    {
      "cell_type": "code",
      "metadata": {
        "id": "DQaz9fNdsu0V"
      },
      "source": [
        "if True:\n",
        "    print('4 spaces')  # space 4칸 사용\n",
        "   print('3 spaces')   # space 3칸 사용"
      ],
      "execution_count": null,
      "outputs": []
    },
    {
      "cell_type": "code",
      "metadata": {
        "id": "JPhE0aWgsu0W"
      },
      "source": [
        "x = 1\n",
        " y = 3"
      ],
      "execution_count": null,
      "outputs": []
    },
    {
      "cell_type": "markdown",
      "metadata": {
        "id": "7pdtWGbmsu0W"
      },
      "source": [
        "같은 코드 블록만 아니면 탭(tab)과 공백(space)을 혼용해서 사용할 수 있지만 권장하지 않습니다."
      ]
    },
    {
      "cell_type": "code",
      "metadata": {
        "id": "h86p_Rhnsu0W"
      },
      "source": [
        "if False:\n",
        "    print('4 spaces')\n",
        "else:\n",
        "  print('2 spaces')"
      ],
      "execution_count": null,
      "outputs": []
    },
    {
      "cell_type": "code",
      "metadata": {
        "id": "b9IJM9R8su0W"
      },
      "source": [
        "if True:\n",
        " print('1 spaces')\n",
        "else:\n",
        "    print('4 spaces')"
      ],
      "execution_count": null,
      "outputs": []
    },
    {
      "cell_type": "markdown",
      "metadata": {
        "id": "o3Tct835su0W"
      },
      "source": [
        "가독성을 높이는 수단이지만 들여쓰기를 잘못 사용해서 잘못된 코드 블록으로 설정하게 되면 문법적 오류 대신 논리적 오류로 빠지게 되면 디버깅하기가 매우 힘들어 질 수도 있습니다."
      ]
    },
    {
      "cell_type": "markdown",
      "metadata": {
        "tags": [],
        "id": "_9PfLUpbYxzK"
      },
      "source": [
        "# **for**문"
      ]
    },
    {
      "cell_type": "markdown",
      "metadata": {
        "id": "R5nawEohYxzK"
      },
      "source": [
        "**for**문의 일반 형식은 다음과 같습니다.\n",
        "\n",
        "<b><pre>for 변수 in 순회형:\n",
        "    for-명령문\n",
        "else:\n",
        "    else-명령문</pre></b>\n"
      ]
    },
    {
      "cell_type": "markdown",
      "metadata": {
        "id": "Lqa8j2tKYxzL"
      },
      "source": [
        "다음과 같은 특징이 있습니다.\n",
        "- **순회형**에 들어 있는 객체들을 처음부터 마지막까지 추출해서 차례로 **변수**에 할당한 후 **for-명령문**을 실행합니다.\n",
        "    + **순회형**으로는 **문자열**, **리스트**, **튜플**, **딕셔너리**, **세트**가 있습니다.\n",
        "- **변수**는 **순회형**에서 가져온 객체를 참조하는 하나의 변수일 수도 있고, 복합 변수일 수도 있습니다. 복합 변수면 주로 튜플을 사용합니다.\n",
        "- **for**문을 종료한 후, **else**문의 **else-명령문**을 실행합니다.\n",
        "    + 즉, **for**문이 정상적으로 종료되었다면 **else**문은 반드시 실행됩니다.\n",
        "    + 결국 전체 **for**문은 **else-명령문**을 실행한 후에 종료됩니다.\n",
        "- 다음 두 가지 경우에는 **else**문이 실행되지 않습니다.\n",
        "    + **for**문이 **break** 또는 **return**에 의해 종료될 때\n",
        "    + **for**문 실행 중 **예외**(exception)가 발생할 때\n",
        "- **else**문은 선택 사항입니다.\n",
        "- **for**와 **else**의 마지막에는 항상 쌍점(:)이 붙습니다."
      ]
    },
    {
      "cell_type": "code",
      "metadata": {
        "id": "rssTWBifYxzL"
      },
      "source": [
        "for i in ['a', 'b', 'c', 'd', 'e']:\n",
        "    print(i)"
      ],
      "execution_count": null,
      "outputs": []
    },
    {
      "cell_type": "markdown",
      "metadata": {
        "id": "oTOPv_-FYxzL"
      },
      "source": [
        "**NOTE**\n",
        "- **for 변수 in 순회형:** 구문에서 **변수**는 **순회형**에 들어있는 객체의 <u>실제 값(value)</u>을 가져옵니다.\n",
        "- **변수**가 인덱스 값을 가져오는 것이 아님을 명심합시다."
      ]
    },
    {
      "cell_type": "code",
      "metadata": {
        "id": "Pta6j-fPYxzL"
      },
      "source": [
        "for i in range(1, 10):\n",
        "  print(f'5 x {i} = {5 * i}')"
      ],
      "execution_count": null,
      "outputs": []
    },
    {
      "cell_type": "markdown",
      "metadata": {
        "tags": [],
        "id": "7ad18d65-b416-4e02-b8e8-459b2e280eea"
      },
      "source": [
        "**for**문의 **in** 다음애는 **range** 뿐만 아니라 여러 개의 데이터를 담을 수 있는 복합자료형인 리스트, 튜플, 딕셔너리, 세트 등이 올 수 있어요. 예를 들어, '사과', '딸기', '블루베리', '바나나', '포도'를 담고 있는 과일 리스트를 만든 후 이 값들을 **for** 문을 사용해 하나씩 출력하는 프로그램을 작성해봅시다."
      ]
    },
    {
      "cell_type": "code",
      "execution_count": null,
      "metadata": {
        "tags": [],
        "id": "f2637ea8-231f-413d-8770-211f5c66c77b"
      },
      "outputs": [],
      "source": [
        "fruits = ['사과', '딸기', '블루베리', '바나나', '포도']\n",
        "for x in fruits:  # 리스트가 담고 있는 값들을 차례로 꺼내서 변수 x에 덤습니다.\n",
        "    print(x)      # 변수 x의 값을 출력합니다."
      ]
    },
    {
      "cell_type": "markdown",
      "metadata": {
        "tags": [],
        "id": "4af5f350-91e9-4cad-9917-ade3b89a89a4"
      },
      "source": [
        "위 프로그램은 다음과 같이 읽을 수 있습니다. \"과일 리스트 *fruits* 가 담고 있는 각 항목을 차례로 변수 *x*에 저장한 다음 해당 변수의 내용을 출력합니다.\" 위와 같은 결과를 튜플을 사용해서 출력할 수도 있습니다."
      ]
    },
    {
      "cell_type": "code",
      "execution_count": null,
      "metadata": {
        "tags": [],
        "id": "4222856f-0d39-498d-a3f8-5979ad4cd1b8"
      },
      "outputs": [],
      "source": [
        "fruits = '사과', '딸기', '블루베리', '바나나', '포도'\n",
        "for y in fruits:  # 튜플이 담고 있는 값들을 차례로 꺼내서 변수 y에 덤습니다.\n",
        "    print(y)      # 변수 y의 값을 출력합니다."
      ]
    },
    {
      "cell_type": "markdown",
      "metadata": {
        "tags": [],
        "id": "0f6bf88a-0828-4877-af10-492536df571e"
      },
      "source": [
        "# 무한 루프"
      ]
    },
    {
      "cell_type": "markdown",
      "metadata": {
        "tags": [],
        "id": "0e5f0df1-5aec-4430-a0ac-8c041ddaa9ee"
      },
      "source": [
        "**for**문은 순환(반복)할 횟수가 정해져 있는 순환문인 반면, **while**문은 반복 작업을 중지해야 할 때를 미리 알 수 없을 때 사용되는 순환문입니다. 예를 들어 과일 상자 안에 들어 들어 있는 과일을 무작위로 추출해서 추출한 과일 이름을 출력하는 프로그램이 있다고 가정해요. 그런데 만약 추출한 과일이 '사과'라면 '사과를 선택해서 프로그램을 종료합니다.'를 출력한 후 무한루프를 빠져 나오는 프로그램은 다음과 같이 작성할 수 있습니다.\n"
      ]
    },
    {
      "cell_type": "code",
      "source": [
        "import random  # 무작위 추출을 위해 램덤 모듈을 불러옵니다.\n",
        "fruits = '사과', '딸기', '블루베리', '바나나', '포도'\n",
        "\n",
        "while True:\n",
        "    fruit = random.choice(fruits)\n",
        "    if fruit == '사과':\n",
        "        print('사과를 선택해서 프로그램을 종료합니다.')\n",
        "        break\n",
        "    print(fruit)\n"
      ],
      "metadata": {
        "id": "jz2KlandjdUi"
      },
      "execution_count": null,
      "outputs": []
    },
    {
      "cell_type": "markdown",
      "source": [
        "이처럼 언제 멈출지 모르는 상황이라면 **for**문보다는 **while**문을 사용하는 것이 좋습니다."
      ],
      "metadata": {
        "id": "kGKhbTkvkwXT"
      }
    },
    {
      "cell_type": "markdown",
      "metadata": {
        "tags": [],
        "id": "0f735816-d102-49ce-a9f6-1609b1ad869c"
      },
      "source": [
        "- - -\n",
        "**무한 루프 사용 방법**\n",
        "<b><pre>\n",
        "while True:\n",
        "    반복 처리하는 명령문 1\n",
        "    반복 처리하는 명령문 2\n",
        "    ...\n",
        "    if some_value == True:\n",
        "        break\n",
        "</pre></b>\n",
        "\n",
        "- **while**문이 **True**라서 무한 반복합니다. 끝이 쌍점(:)이 온다는 점에 유의합니다.\n",
        "- **if**문의 조건이 맞으면(**True**면) **break** 명령어를 실행하여 무한 루프를 빠져 나옵니다.\n",
        "\n",
        "- - -"
      ]
    },
    {
      "cell_type": "markdown",
      "metadata": {
        "id": "jtstf_HjYxzL"
      },
      "source": [
        "# 함수"
      ]
    },
    {
      "cell_type": "markdown",
      "metadata": {
        "tags": [],
        "id": "5bcacbad-9705-4ea8-ad4d-e0e2dd37b6a6"
      },
      "source": [
        "프로그래밍에서 코드의 재사용은 매우 중요합니다. 이미 작성한 프로그램을 재사용하지 못해 매번 프로그램을 다시 작성해야 한다면 평생 타이핑만 하다 손가락이 다 닳아 없어질 겁니다. 그러면 너무 슬퍼겠죠? 그래서 우리는 재사용이 가능한 코드를 하나로 묶어서 필요할 때마다 불러서 실행하는데 이것을 '함수'라 부릅니다. 함수란 어떤 일을 하는데 필요한 명령문의 묶음입니다. 영어로는 'function'이라 부릅니다."
      ]
    },
    {
      "cell_type": "markdown",
      "metadata": {
        "tags": [],
        "id": "ee4cfc61-f03f-4e3e-92a6-3067699f069e"
      },
      "source": [
        "우리는 이미 누군가가 만들어 놓은 함수를 사용해 왔습니다. **print**나 **len** 명령어 등이 이에 해당하는데, 이들 모두가 함수입니다."
      ]
    },
    {
      "cell_type": "markdown",
      "metadata": {
        "id": "inBz18v3YxzL"
      },
      "source": [
        "**사용자 함수**(custom function)란?\n",
        "\n",
        "- 사용자(프로그래머)가 직접 만든 함수를 말합니다."
      ]
    },
    {
      "cell_type": "markdown",
      "metadata": {
        "id": "QBIr5gsbYxzL"
      },
      "source": [
        "사용자 함수를 작성하는 일반적인 형식은 다음과 같습니다.\n",
        "\n",
        "<b><pre>def 함수이름([매개변수,...]):\n",
        "    함수-코드-블록\n",
        "    [return 객체]</pre></b>\n"
      ]
    },
    {
      "cell_type": "markdown",
      "metadata": {
        "id": "yJLqPIg8YxzL"
      },
      "source": [
        "다음과 같은 특징이 있습니다.\n",
        "- 함수에 포함할 수 있는 **매개변수**의 개수는 제한이 없습니다. 즉, 없어도 되고 여러 개가 와도 됩니다.\n",
        "- 함수 정의 부분(첫 번째 줄)의 마지막에 쌍점(**:**)이 옵니다.\n",
        "- **함수-코드-블록**은 들여쓰기로 구분합니다.\n",
        "- **return**문은 있을 수도 있고 없을 수도 있습니다. 즉, 함수가 처리한 결과를 실행한 코드로 돌려줘야 한다면 **return** 문에 다음에 반환값을 지정하면 됩니다. 그렇지 않다면 **return**문을 생략할 수 있습니다."
      ]
    },
    {
      "cell_type": "markdown",
      "metadata": {
        "id": "tq3YVCp5YxzL"
      },
      "source": [
        "함수를 만들어 봅시다."
      ]
    },
    {
      "cell_type": "code",
      "metadata": {
        "id": "5sDPsXSUYxzL"
      },
      "source": [
        "# 매개변수와 반환 값이 없는 함수\n",
        "def function1():\n",
        "    print('function1 is working!')\n",
        "\n",
        "# 매개변수는 있고 반환 값은 없는 함수\n",
        "def function2(words):\n",
        "    print(f'function2 is saying {words}.')\n",
        "\n",
        "# 매개변수와 반환 값이 있는 함수\n",
        "def function3(number1, number2):\n",
        "    result = number1 + number2\n",
        "    return result"
      ],
      "execution_count": null,
      "outputs": []
    },
    {
      "cell_type": "markdown",
      "metadata": {
        "id": "t4LSp2txYxzM"
      },
      "source": [
        "방금 만든 함수들을 호출하여 실행해보세요."
      ]
    },
    {
      "cell_type": "code",
      "metadata": {
        "id": "erGZsELOYxzM"
      },
      "source": [
        "function1()"
      ],
      "execution_count": null,
      "outputs": []
    },
    {
      "cell_type": "code",
      "metadata": {
        "id": "Y6rK2CnoYxzM"
      },
      "source": [
        "function2('Hi Python')"
      ],
      "execution_count": null,
      "outputs": []
    },
    {
      "cell_type": "code",
      "metadata": {
        "id": "zf8GFLKwYxzM"
      },
      "source": [
        "x = function3(1, 5)\n",
        "print(x + 3)"
      ],
      "execution_count": null,
      "outputs": []
    },
    {
      "cell_type": "markdown",
      "source": [
        "![image.png](data:image/png;base64,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)"
      ],
      "metadata": {
        "id": "onW2Di-VD-ei"
      }
    }
  ]
}